{
 "cells": [
  {
   "attachments": {},
   "cell_type": "markdown",
   "metadata": {},
   "source": [
    "## Imports"
   ]
  },
  {
   "cell_type": "code",
   "execution_count": null,
   "metadata": {},
   "outputs": [],
   "source": [
    "import torch\n",
    "from torch import nn, optim\n",
    "import numpy as np\n",
    "from torchvision import datasets, transforms\n",
    "from torch.utils.data import DataLoader\n",
    "from matplotlib import pyplot as plt"
   ]
  },
  {
   "attachments": {},
   "cell_type": "markdown",
   "metadata": {},
   "source": [
    "## Data"
   ]
  },
  {
   "cell_type": "code",
   "execution_count": 39,
   "metadata": {},
   "outputs": [],
   "source": [
    "transform = transforms.ToTensor()"
   ]
  },
  {
   "cell_type": "code",
   "execution_count": 40,
   "metadata": {},
   "outputs": [],
   "source": [
    "train_data = datasets.MNIST(root='data', download=True, train=True, transform=transform)\n",
    "test_data = datasets.MNIST(root='data', train=False, download=True, transform=transform)"
   ]
  },
  {
   "cell_type": "code",
   "execution_count": 41,
   "metadata": {},
   "outputs": [],
   "source": [
    "train_loader = DataLoader(dataset=train_data, batch_size=20)\n",
    "test_loader = DataLoader(dataset=test_data, batch_size=20)"
   ]
  },
  {
   "attachments": {},
   "cell_type": "markdown",
   "metadata": {},
   "source": [
    "## Model"
   ]
  },
  {
   "cell_type": "code",
   "execution_count": 42,
   "metadata": {},
   "outputs": [],
   "source": [
    "class MnistAutoEncoder(nn.Module):\n",
    "\n",
    "    def __init__(self, encode_dim):\n",
    "        super().__init__()\n",
    "\n",
    "        self.encode_dim = encode_dim\n",
    "        self.encoder = nn.Linear(in_features=784, out_features=encode_dim)\n",
    "        self.decoder = nn.Linear(in_features=encode_dim, out_features=784)\n",
    "\n",
    "    def forward(self, x):\n",
    "        x = torch.relu(self.encoder(x))\n",
    "        x = torch.sigmoid(self.decoder(x))\n",
    "\n",
    "        return x"
   ]
  },
  {
   "cell_type": "code",
   "execution_count": 45,
   "metadata": {},
   "outputs": [
    {
     "data": {
      "text/plain": [
       "device(type='cuda', index=0)"
      ]
     },
     "execution_count": 45,
     "metadata": {},
     "output_type": "execute_result"
    }
   ],
   "source": [
    "device = torch.device('cuda:0' if torch.cuda.is_available() else 'cpu')\n",
    "device"
   ]
  },
  {
   "cell_type": "code",
   "execution_count": 46,
   "metadata": {},
   "outputs": [],
   "source": [
    "model = MnistAutoEncoder(20).to(device)"
   ]
  },
  {
   "attachments": {},
   "cell_type": "markdown",
   "metadata": {},
   "source": [
    "## Train"
   ]
  },
  {
   "cell_type": "code",
   "execution_count": 47,
   "metadata": {},
   "outputs": [],
   "source": [
    "optimizer = optim.Adam(model.parameters(), lr=0.001)\n",
    "criterion = nn.MSELoss()\n",
    "EPOCHS = 100"
   ]
  },
  {
   "cell_type": "code",
   "execution_count": 48,
   "metadata": {},
   "outputs": [
    {
     "name": "stdout",
     "output_type": "stream",
     "text": [
      "Epoch0: loss=0.03210153430700302\n",
      "Epoch1: loss=0.027296055108308792\n",
      "Epoch2: loss=0.026285558938980103\n",
      "Epoch3: loss=0.02600827068090439\n",
      "Epoch4: loss=0.025849461555480957\n",
      "Epoch5: loss=0.025696048513054848\n",
      "Epoch6: loss=0.02555791661143303\n",
      "Epoch7: loss=0.025422414764761925\n",
      "Epoch8: loss=0.025298215448856354\n",
      "Epoch9: loss=0.025184420868754387\n",
      "Epoch10: loss=0.025092313066124916\n",
      "Epoch11: loss=0.02500275894999504\n",
      "Epoch12: loss=0.024926140904426575\n",
      "Epoch13: loss=0.024857904762029648\n",
      "Epoch14: loss=0.024749843403697014\n",
      "Epoch15: loss=0.024685639888048172\n",
      "Epoch16: loss=0.024639567360281944\n",
      "Epoch17: loss=0.02458971180021763\n",
      "Epoch18: loss=0.02454366721212864\n",
      "Epoch19: loss=0.024504901841282845\n",
      "Epoch20: loss=0.02445281483232975\n",
      "Epoch21: loss=0.02440723590552807\n",
      "Epoch22: loss=0.024368032813072205\n",
      "Epoch23: loss=0.024327490478754044\n",
      "Epoch24: loss=0.024256067350506783\n",
      "Epoch25: loss=0.024212734773755074\n",
      "Epoch26: loss=0.024169333279132843\n",
      "Epoch27: loss=0.02413700893521309\n",
      "Epoch28: loss=0.024109726771712303\n",
      "Epoch29: loss=0.024080917239189148\n",
      "Epoch30: loss=0.024053994566202164\n",
      "Epoch31: loss=0.024027954787015915\n",
      "Epoch32: loss=0.02398822084069252\n",
      "Epoch33: loss=0.023963559418916702\n",
      "Epoch34: loss=0.023940879851579666\n",
      "Epoch35: loss=0.02391979843378067\n",
      "Epoch36: loss=0.02389802597463131\n",
      "Epoch37: loss=0.02383406087756157\n",
      "Epoch38: loss=0.02382170595228672\n",
      "Epoch39: loss=0.02379985712468624\n",
      "Epoch40: loss=0.02378268912434578\n",
      "Epoch41: loss=0.023771822452545166\n",
      "Epoch42: loss=0.02376280352473259\n",
      "Epoch43: loss=0.02374459244310856\n",
      "Epoch44: loss=0.023737069219350815\n",
      "Epoch45: loss=0.023726357147097588\n",
      "Epoch46: loss=0.023710932582616806\n",
      "Epoch47: loss=0.02370777353644371\n",
      "Epoch48: loss=0.023702461272478104\n",
      "Epoch49: loss=0.02369440346956253\n",
      "Epoch50: loss=0.023682234808802605\n",
      "Epoch51: loss=0.023672793060541153\n",
      "Epoch52: loss=0.02366076037287712\n",
      "Epoch53: loss=0.023634720593690872\n",
      "Epoch54: loss=0.023623110726475716\n",
      "Epoch55: loss=0.02361944317817688\n",
      "Epoch56: loss=0.023617209866642952\n",
      "Epoch57: loss=0.023614341393113136\n",
      "Epoch58: loss=0.023607101291418076\n",
      "Epoch59: loss=0.023595301434397697\n",
      "Epoch60: loss=0.023584984242916107\n",
      "Epoch61: loss=0.023566681891679764\n",
      "Epoch62: loss=0.023570671677589417\n",
      "Epoch63: loss=0.02357436902821064\n",
      "Epoch64: loss=0.023568743839859962\n",
      "Epoch65: loss=0.02356526628136635\n",
      "Epoch66: loss=0.023562807589769363\n",
      "Epoch67: loss=0.023558486253023148\n",
      "Epoch68: loss=0.02355538122355938\n",
      "Epoch69: loss=0.023552076891064644\n",
      "Epoch70: loss=0.02355148084461689\n",
      "Epoch71: loss=0.023549949750304222\n",
      "Epoch72: loss=0.023542948067188263\n",
      "Epoch73: loss=0.023542001843452454\n",
      "Epoch74: loss=0.023536203429102898\n",
      "Epoch75: loss=0.023533567786216736\n",
      "Epoch76: loss=0.023528849706053734\n",
      "Epoch77: loss=0.02351788617670536\n",
      "Epoch78: loss=0.02351345308125019\n",
      "Epoch79: loss=0.023507915437221527\n",
      "Epoch80: loss=0.0235030148178339\n",
      "Epoch81: loss=0.023507680743932724\n",
      "Epoch82: loss=0.02350633591413498\n",
      "Epoch83: loss=0.023504609242081642\n",
      "Epoch84: loss=0.023503968492150307\n",
      "Epoch85: loss=0.023510538041591644\n",
      "Epoch86: loss=0.02351655624806881\n",
      "Epoch87: loss=0.02351486310362816\n",
      "Epoch88: loss=0.02351459302008152\n",
      "Epoch89: loss=0.023519977927207947\n",
      "Epoch90: loss=0.023513570427894592\n",
      "Epoch91: loss=0.02351490594446659\n",
      "Epoch92: loss=0.023512916639447212\n",
      "Epoch93: loss=0.023506829515099525\n",
      "Epoch94: loss=0.023504644632339478\n",
      "Epoch95: loss=0.023508122190833092\n",
      "Epoch96: loss=0.023507704958319664\n",
      "Epoch97: loss=0.02350439317524433\n",
      "Epoch98: loss=0.023502517491579056\n",
      "Epoch99: loss=0.023502018302679062\n"
     ]
    }
   ],
   "source": [
    "for epoch in range(EPOCHS):\n",
    "\n",
    "    train_loss = 0.0\n",
    "\n",
    "    for image, label in train_loader:\n",
    "        \n",
    "        image = image.view(image.size(0), -1).to(device)\n",
    "\n",
    "        pred = model(image)\n",
    "        optimizer.zero_grad()\n",
    "\n",
    "        with torch.set_grad_enabled(True):\n",
    "            loss = criterion(pred, image)\n",
    "            loss.backward()\n",
    "            optimizer.step()\n",
    "    \n",
    "    train_loss += loss.item()\n",
    "    print(f'Epoch{epoch}: loss={loss}')\n",
    "            \n",
    "\n"
   ]
  },
  {
   "attachments": {},
   "cell_type": "markdown",
   "metadata": {},
   "source": [
    "## Results"
   ]
  },
  {
   "cell_type": "code",
   "execution_count": 61,
   "metadata": {},
   "outputs": [
    {
     "data": {
      "image/png": "[encoded data removed]",
      "text/plain": [
       "<Figure size 2500x400 with 20 Axes>"
      ]
     },
     "metadata": {},
     "output_type": "display_data"
    }
   ],
   "source": [
    "dataiter = iter(test_loader)\n",
    "images, labels = next(dataiter)\n",
    "images = images.to(device)\n",
    "\n",
    "images_flatten = images.view(images.size(0), -1)\n",
    "\n",
    "output = model(images_flatten)\n",
    "\n",
    "images = images.detach().cpu().numpy()\n",
    "\n",
    "output = output.view(20, 1, 28, 28)\n",
    "\n",
    "output = output.detach().cpu().numpy()\n",
    "\n",
    "fig, axes = plt.subplots(nrows=2, ncols=10, sharex=True, sharey=True, figsize=(25,4))\n",
    "\n",
    "for images, row in zip([images, output], axes):\n",
    "    for img, ax in zip(images, row):\n",
    "        ax.imshow(np.squeeze(img), cmap='gray')\n",
    "        ax.get_xaxis().set_visible(False)\n",
    "        ax.get_yaxis().set_visible(False)"
   ]
  }
 ],
 "metadata": {
  "kernelspec": {
   "display_name": "torchenv",
   "language": "python",
   "name": "torchenv"
  },
  "language_info": {
   "codemirror_mode": {
    "name": "ipython",
    "version": 3
   },
   "file_extension": ".py",
   "mimetype": "text/x-python",
   "name": "python",
   "nbconvert_exporter": "python",
   "pygments_lexer": "ipython3",
   "version": "3.10.8"
  },
  "orig_nbformat": 4
 },
 "nbformat": 4,
 "nbformat_minor": 2
}
