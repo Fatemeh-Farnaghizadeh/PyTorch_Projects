{
 "cells": [
  {
   "attachments": {},
   "cell_type": "markdown",
   "metadata": {},
   "source": [
    "## Imports\n"
   ]
  },
  {
   "cell_type": "code",
   "execution_count": null,
   "metadata": {},
   "outputs": [],
   "source": [
    "import torch\n",
    "import torchvision\n",
    "from torch.utils.data import DataLoader\n",
    "from torchvision import datasets\n",
    "from torch import nn, optim\n",
    "from torchvision import transforms\n",
    "import torch.nn.functional as F\n",
    "from torch.utils.tensorboard import SummaryWriter"
   ]
  },
  {
   "attachments": {},
   "cell_type": "markdown",
   "metadata": {},
   "source": [
    "## Dataset"
   ]
  },
  {
   "cell_type": "code",
   "execution_count": null,
   "metadata": {},
   "outputs": [],
   "source": [
    "transformer = transforms.Compose([\n",
    "    transforms.ToTensor(),\n",
    "    transforms.Normalize(mean=0.5, std=0.5)\n",
    "])"
   ]
  },
  {
   "cell_type": "code",
   "execution_count": null,
   "metadata": {},
   "outputs": [],
   "source": [
    "dataset = datasets.MNIST(root='./data', train=True, download=True, transform=transformer)"
   ]
  },
  {
   "cell_type": "code",
   "execution_count": null,
   "metadata": {},
   "outputs": [],
   "source": [
    "loader = DataLoader(dataset=dataset, batch_size=32, shuffle=True)"
   ]
  },
  {
   "cell_type": "code",
   "execution_count": null,
   "metadata": {},
   "outputs": [],
   "source": [
    "fixed_noise = torch.randn((32, 100))"
   ]
  },
  {
   "attachments": {},
   "cell_type": "markdown",
   "metadata": {},
   "source": [
    "## Model"
   ]
  },
  {
   "cell_type": "code",
   "execution_count": null,
   "metadata": {},
   "outputs": [],
   "source": [
    "class Generator(nn.Module):\n",
    "\n",
    "    def __init__(self):\n",
    "        super().__init__()\n",
    "        self.fc1 = nn.Linear(in_features=100, out_features=256)\n",
    "        self.bn1 = nn.BatchNorm1d(256, 0.2)\n",
    "        self.fc2 = nn.Linear(in_features=256, out_features=512)\n",
    "        self.bn2 = nn.BatchNorm1d(512, 0.2)\n",
    "        self.fc3 = nn.Linear(in_features=512, out_features=784)\n",
    "        \n",
    "\n",
    "    def forward(self, x):\n",
    "        x = F.leaky_relu(self.fc1(x), negative_slope=0.2)\n",
    "        x = self.bn1(x)\n",
    "\n",
    "        x = F.leaky_relu(self.fc2(x), negative_slope=0.2)\n",
    "        x = self.bn2(x) \n",
    "\n",
    "        x = torch.tanh(self.fc3(x))\n",
    "\n",
    "        return x\n"
   ]
  },
  {
   "cell_type": "code",
   "execution_count": null,
   "metadata": {},
   "outputs": [],
   "source": [
    "class Discriminator(nn.Module):\n",
    "    \n",
    "    def __init__(self):\n",
    "        super().__init__()\n",
    "        self.fc1 = nn.Linear(in_features=784, out_features=512)\n",
    "        self.fc2 = nn.Linear(in_features=512, out_features=256)\n",
    "        self.fc3 = nn.Linear(in_features=256, out_features=1)\n",
    "\n",
    "        \n",
    "    def forward(self, x):\n",
    "        x = F.leaky_relu(self.fc1(x), negative_slope=0.2)\n",
    "        \n",
    "        x = F.leaky_relu(self.fc2(x), negative_slope=0.2)\n",
    "\n",
    "        x = torch.sigmoid(self.fc3(x))\n",
    "\n",
    "        return x"
   ]
  },
  {
   "cell_type": "code",
   "execution_count": null,
   "metadata": {},
   "outputs": [],
   "source": [
    "generator = Generator()\n",
    "discriminator = Discriminator()"
   ]
  },
  {
   "attachments": {},
   "cell_type": "markdown",
   "metadata": {},
   "source": [
    "## Train"
   ]
  },
  {
   "cell_type": "code",
   "execution_count": null,
   "metadata": {},
   "outputs": [],
   "source": [
    "EPOCHS = 100\n",
    "\n",
    "optimizer_D = optim.Adam(discriminator.parameters(), lr=0.0003)\n",
    "optimizer_G = optim.Adam(generator.parameters(), lr=0.0003)\n",
    "\n",
    "criterion_D = nn.BCELoss()\n",
    "criterion_G = nn.BCELoss()\n",
    "\n",
    "writer_fake = SummaryWriter(f\"logs/fake\")\n",
    "writer_real = SummaryWriter(f\"logs/real\")\n",
    "step = 0"
   ]
  },
  {
   "cell_type": "code",
   "execution_count": null,
   "metadata": {},
   "outputs": [],
   "source": [
    "for epoch in range(EPOCHS):\n",
    "\n",
    "    for i , (real_images, _) in enumerate(loader):\n",
    "\n",
    "        #Training discriminator\n",
    "\n",
    "        optimizer_D.zero_grad()\n",
    "\n",
    "        real_labels = torch.ones(real_images.size(0), 1)\n",
    "        fake_labels = torch.zeros(real_images.size(0), 1)\n",
    "\n",
    "        real_images = real_images.view(real_images.size(0), -1)\n",
    "\n",
    "        noise = torch.randn(real_images.size(0), 100)\n",
    "        fake_images = generator(noise)\n",
    "\n",
    "        real_outputs = discriminator(real_images)\n",
    "        fake_outputs = discriminator(fake_images.detach())\n",
    "\n",
    "        real_loss = criterion_D(real_outputs, real_labels)\n",
    "        fake_loss = criterion_D(fake_outputs, fake_labels)\n",
    "\n",
    "        loss_d = (real_loss + fake_loss) / 2\n",
    "\n",
    "        loss_d.backward()\n",
    "        optimizer_D.step()\n",
    "\n",
    "        #Training Genertor\n",
    "        optimizer_G.zero_grad()\n",
    "\n",
    "        fake_outputs = discriminator(fake_images)\n",
    "\n",
    "        loss_g = criterion_G(fake_outputs, real_labels)\n",
    "\n",
    "        loss_g.backward()\n",
    "        optimizer_G.step()\n",
    "        \n",
    "        if i== 0:\n",
    "            print(\n",
    "                f\"Epoch [{epoch}/{EPOCHS}] Batch {i}/{len(loader)} \\\n",
    "                      Loss D: {loss_d:.4f}, loss G: {loss_g:.4f}\"\n",
    "            )\n",
    "\n",
    "            with torch.no_grad():\n",
    "                fake_images = generator(fixed_noise).reshape(-1, 1, 28, 28)\n",
    "                data = real_images.reshape(-1, 1, 28, 28)\n",
    "                img_grid_fake = torchvision.utils.make_grid(fake_images, normalize=True)\n",
    "                img_grid_real = torchvision.utils.make_grid(data, normalize=True)\n",
    "\n",
    "                writer_fake.add_image(\n",
    "                    \"Mnist Fake Images\", img_grid_fake, global_step=step\n",
    "                )\n",
    "                writer_real.add_image(\n",
    "                    \"Mnist Real Images\", img_grid_real, global_step=step\n",
    "                )\n",
    "                step += 1"
   ]
  },
  {
   "cell_type": "code",
   "execution_count": null,
   "metadata": {},
   "outputs": [],
   "source": [
    "FILE_GEN = 'generator_model.pth'\n",
    "FILE_DISC = 'discriminator.pth'\n",
    "torch.save(generator, FILE_GEN)\n",
    "torch.save(discriminator, FILE_DISC)"
   ]
  }
 ],
 "metadata": {
  "kernelspec": {
   "display_name": "torchenv",
   "language": "python",
   "name": "torchenv"
  },
  "language_info": {
   "codemirror_mode": {
    "name": "ipython",
    "version": 3
   },
   "file_extension": ".py",
   "mimetype": "text/x-python",
   "name": "python",
   "nbconvert_exporter": "python",
   "pygments_lexer": "ipython3",
   "version": "3.10.8"
  },
  "orig_nbformat": 4
 },
 "nbformat": 4,
 "nbformat_minor": 2
}
