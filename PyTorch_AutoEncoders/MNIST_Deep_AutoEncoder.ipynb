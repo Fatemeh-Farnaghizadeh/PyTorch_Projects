{
 "cells": [
  {
   "cell_type": "code",
   "execution_count": 24,
   "metadata": {},
   "outputs": [],
   "source": [
    "import torch\n",
    "from torch import nn, optim\n",
    "from torchvision import datasets, models, transforms\n",
    "from torch.utils.data import DataLoader\n",
    "import numpy as np\n",
    "from matplotlib import pyplot as plt\n"
   ]
  },
  {
   "cell_type": "code",
   "execution_count": 25,
   "metadata": {},
   "outputs": [],
   "source": [
    "transform = transforms.ToTensor()"
   ]
  },
  {
   "cell_type": "code",
   "execution_count": 26,
   "metadata": {},
   "outputs": [],
   "source": [
    "train_data = datasets.MNIST(root='data', train=True, download=True, transform=transform)\n",
    "test_data = datasets.MNIST(root='data', train=False, download=True, transform=transform)"
   ]
  },
  {
   "cell_type": "code",
   "execution_count": 27,
   "metadata": {},
   "outputs": [],
   "source": [
    "train_loader = DataLoader(dataset=train_data, batch_size=20)\n",
    "test_loader = DataLoader(dataset=test_data, batch_size=20)"
   ]
  },
  {
   "cell_type": "code",
   "execution_count": 28,
   "metadata": {},
   "outputs": [],
   "source": [
    "class DeepAutoEncoder(nn.Module):\n",
    "\n",
    "    def __init__(self):\n",
    "        super().__init__()\n",
    "\n",
    "        self.L1 = nn.Linear(in_features=784, out_features=128)\n",
    "        self.L2 = nn.Linear(in_features=128, out_features=64)\n",
    "        self.L3 = nn.Linear(in_features=64, out_features=32)\n",
    "        self.L4 = nn.Linear(in_features=32, out_features=64)\n",
    "        self.L5 = nn.Linear(in_features=64, out_features=128)\n",
    "        self.L6 = nn.Linear(in_features=128, out_features=784)\n",
    "\n",
    "\n",
    "    def forward(self, x):\n",
    "        x = torch.relu(self.L1(x))\n",
    "        x = torch.relu(self.L2(x))\n",
    "        x = torch.relu(self.L3(x))\n",
    "        x = torch.relu(self.L4(x))\n",
    "        x = torch.relu(self.L5(x))\n",
    "        x = torch.sigmoid(self.L6(x))\n",
    "\n",
    "        return x"
   ]
  },
  {
   "cell_type": "code",
   "execution_count": 29,
   "metadata": {},
   "outputs": [
    {
     "data": {
      "text/plain": [
       "device(type='cuda')"
      ]
     },
     "execution_count": 29,
     "metadata": {},
     "output_type": "execute_result"
    }
   ],
   "source": [
    "device = torch.device('cuda' if torch.cuda.is_available() else 'cpu')\n",
    "device"
   ]
  },
  {
   "cell_type": "code",
   "execution_count": 30,
   "metadata": {},
   "outputs": [
    {
     "data": {
      "text/plain": [
       "DeepAutoEncoder(\n",
       "  (L1): Linear(in_features=784, out_features=128, bias=True)\n",
       "  (L2): Linear(in_features=128, out_features=64, bias=True)\n",
       "  (L3): Linear(in_features=64, out_features=32, bias=True)\n",
       "  (L4): Linear(in_features=32, out_features=64, bias=True)\n",
       "  (L5): Linear(in_features=64, out_features=128, bias=True)\n",
       "  (L6): Linear(in_features=128, out_features=784, bias=True)\n",
       ")"
      ]
     },
     "execution_count": 30,
     "metadata": {},
     "output_type": "execute_result"
    }
   ],
   "source": [
    "model = DeepAutoEncoder()\n",
    "model.to(device)"
   ]
  },
  {
   "cell_type": "code",
   "execution_count": 31,
   "metadata": {},
   "outputs": [],
   "source": [
    "criterion = nn.MSELoss()\n",
    "optimizer = optim.Adam(model.parameters(), lr=0.001)\n",
    "EPOCHS = 50"
   ]
  },
  {
   "cell_type": "code",
   "execution_count": 32,
   "metadata": {},
   "outputs": [
    {
     "name": "stdout",
     "output_type": "stream",
     "text": [
      "Epoch0: loss=0.025624550879001617\n",
      "Epoch1: loss=0.01995372213423252\n",
      "Epoch2: loss=0.017032470554113388\n",
      "Epoch3: loss=0.015488925389945507\n",
      "Epoch4: loss=0.014665945433080196\n",
      "Epoch5: loss=0.014152314513921738\n",
      "Epoch6: loss=0.012829124927520752\n",
      "Epoch7: loss=0.012057963758707047\n",
      "Epoch8: loss=0.011671086773276329\n",
      "Epoch9: loss=0.011036213487386703\n",
      "Epoch10: loss=0.010731050744652748\n",
      "Epoch11: loss=0.010416707955300808\n",
      "Epoch12: loss=0.010283205658197403\n",
      "Epoch13: loss=0.010046984069049358\n",
      "Epoch14: loss=0.009850818663835526\n",
      "Epoch15: loss=0.009771144017577171\n",
      "Epoch16: loss=0.009535056538879871\n",
      "Epoch17: loss=0.00933748111128807\n",
      "Epoch18: loss=0.009095528163015842\n",
      "Epoch19: loss=0.008787427097558975\n",
      "Epoch20: loss=0.008581542409956455\n",
      "Epoch21: loss=0.008506556041538715\n",
      "Epoch22: loss=0.008331423625349998\n",
      "Epoch23: loss=0.008330008015036583\n",
      "Epoch24: loss=0.008175746537744999\n",
      "Epoch25: loss=0.008027489297091961\n",
      "Epoch26: loss=0.007995293475687504\n",
      "Epoch27: loss=0.007909630425274372\n",
      "Epoch28: loss=0.007877564989030361\n",
      "Epoch29: loss=0.007842258550226688\n",
      "Epoch30: loss=0.007898105308413506\n",
      "Epoch31: loss=0.007892707362771034\n",
      "Epoch32: loss=0.007929160259664059\n",
      "Epoch33: loss=0.007854914292693138\n",
      "Epoch34: loss=0.007780790328979492\n",
      "Epoch35: loss=0.007730647921562195\n",
      "Epoch36: loss=0.007717338390648365\n",
      "Epoch37: loss=0.007697896100580692\n",
      "Epoch38: loss=0.007618778385221958\n",
      "Epoch39: loss=0.00755892600864172\n",
      "Epoch40: loss=0.007544173393398523\n",
      "Epoch41: loss=0.0074800834991037846\n",
      "Epoch42: loss=0.007416143547743559\n",
      "Epoch43: loss=0.007367522455751896\n",
      "Epoch44: loss=0.0072965677827596664\n",
      "Epoch45: loss=0.007365969941020012\n",
      "Epoch46: loss=0.007286771200597286\n",
      "Epoch47: loss=0.007284074556082487\n",
      "Epoch48: loss=0.007293210364878178\n",
      "Epoch49: loss=0.007271112408488989\n"
     ]
    }
   ],
   "source": [
    "for epoch in range(EPOCHS):\n",
    "\n",
    "    train_loss = 0\n",
    "\n",
    "    for images, labels in train_loader:\n",
    "        images = images.view(20, -1).to(device)\n",
    "\n",
    "        pred = model(images)\n",
    "\n",
    "        optimizer.zero_grad()\n",
    "\n",
    "        with torch.set_grad_enabled(True):\n",
    "            loss = criterion(pred, images)\n",
    "            loss.backward()\n",
    "            optimizer.step()\n",
    "\n",
    "    train_loss += loss.item()\n",
    "    print(f'Epoch{epoch}: loss={loss}')\n"
   ]
  },
  {
   "cell_type": "code",
   "execution_count": 33,
   "metadata": {},
   "outputs": [
    {
     "data": {
      "image/png": "[encoded data removed]",
      "text/plain": [
       "<Figure size 2500x400 with 20 Axes>"
      ]
     },
     "metadata": {},
     "output_type": "display_data"
    }
   ],
   "source": [
    "dataiter = iter(test_loader)\n",
    "images, labels = next(dataiter)\n",
    "images = images.to(device)\n",
    "\n",
    "images_flatten = images.view(images.size(0), -1)\n",
    "\n",
    "output = model(images_flatten)\n",
    "\n",
    "images = images.detach().cpu().numpy()\n",
    "\n",
    "output = output.view(20, 1, 28, 28)\n",
    "\n",
    "output = output.detach().cpu().numpy()\n",
    "\n",
    "fig, axes = plt.subplots(nrows=2, ncols=10, sharex=True, sharey=True, figsize=(25,4))\n",
    "\n",
    "for images, row in zip([images, output], axes):\n",
    "    for img, ax in zip(images, row):\n",
    "        ax.imshow(np.squeeze(img), cmap='gray')\n",
    "        ax.get_xaxis().set_visible(False)\n",
    "        ax.get_yaxis().set_visible(False)"
   ]
  }
 ],
 "metadata": {
  "kernelspec": {
   "display_name": "torchenv",
   "language": "python",
   "name": "torchenv"
  },
  "language_info": {
   "codemirror_mode": {
    "name": "ipython",
    "version": 3
   },
   "file_extension": ".py",
   "mimetype": "text/x-python",
   "name": "python",
   "nbconvert_exporter": "python",
   "pygments_lexer": "ipython3",
   "version": "3.10.8"
  },
  "orig_nbformat": 4
 },
 "nbformat": 4,
 "nbformat_minor": 2
}
