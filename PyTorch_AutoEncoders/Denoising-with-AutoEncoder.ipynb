{
 "cells": [
  {
   "attachments": {},
   "cell_type": "markdown",
   "metadata": {},
   "source": [
    "## Imports"
   ]
  },
  {
   "cell_type": "code",
   "execution_count": 54,
   "metadata": {},
   "outputs": [],
   "source": [
    "import torch\n",
    "from torch import nn, optim\n",
    "from torchvision import datasets, transforms\n",
    "from torch.utils.data import DataLoader\n",
    "import numpy as np\n",
    "from matplotlib import pyplot as plt"
   ]
  },
  {
   "attachments": {},
   "cell_type": "markdown",
   "metadata": {},
   "source": [
    "## Data"
   ]
  },
  {
   "cell_type": "code",
   "execution_count": 55,
   "metadata": {},
   "outputs": [],
   "source": [
    "transform = transforms.ToTensor()"
   ]
  },
  {
   "cell_type": "code",
   "execution_count": 56,
   "metadata": {},
   "outputs": [],
   "source": [
    "train_data = datasets.MNIST(root='data', train=True, download=True, transform=transform)\n",
    "test_data = datasets.MNIST(root='data', train=False, download=True, transform=transform)"
   ]
  },
  {
   "cell_type": "code",
   "execution_count": 57,
   "metadata": {},
   "outputs": [],
   "source": [
    "train_loader = DataLoader(dataset=train_data, batch_size=20, shuffle=True)\n",
    "test_loader = DataLoader(dataset=test_data, batch_size=20, shuffle=True)"
   ]
  },
  {
   "attachments": {},
   "cell_type": "markdown",
   "metadata": {},
   "source": [
    "## Model\n"
   ]
  },
  {
   "cell_type": "code",
   "execution_count": 58,
   "metadata": {},
   "outputs": [
    {
     "data": {
      "text/plain": [
       "device(type='cuda')"
      ]
     },
     "execution_count": 58,
     "metadata": {},
     "output_type": "execute_result"
    }
   ],
   "source": [
    "device = torch.device('cuda' if torch.cuda.is_available() else 'cpu')\n",
    "device"
   ]
  },
  {
   "cell_type": "code",
   "execution_count": 59,
   "metadata": {},
   "outputs": [],
   "source": [
    "class DenisingAutoEncoder(nn.Module):\n",
    "\n",
    "    def __init__(self):\n",
    "        super().__init__()\n",
    "\n",
    "        self.conv_1 = nn.Conv2d(in_channels=1, out_channels=64, kernel_size=(3, 3), stride=1, padding=1)\n",
    "        self.btch_1 = nn.BatchNorm2d(64)\n",
    "        self.max_1 = nn.MaxPool2d(kernel_size=(2, 2), stride=2)\n",
    "\n",
    "        self.conv_2 = nn.Conv2d(in_channels=64, out_channels=128, kernel_size=(3, 3), stride=1, padding=1)\n",
    "        self.btch_2 = nn.BatchNorm2d(128)\n",
    "        self.max_2 = nn.MaxPool2d(kernel_size=(2, 2), stride=2)\n",
    "\n",
    "        self.bottle_neck = nn.Conv2d(in_channels=128, out_channels=256, kernel_size=(3, 3), stride=1, padding=1)\n",
    "        self.btch_bottle = nn.BatchNorm2d(256)\n",
    "\n",
    "        self.conv_3 = nn.Conv2d(in_channels=256, out_channels=128, kernel_size=(3, 3), stride=1, padding=1)\n",
    "        self.btch_3 = nn.BatchNorm2d(128)\n",
    "        self.up_sample_1 = nn.Upsample(scale_factor=2, mode='nearest')\n",
    "\n",
    "        self.conv_4 = nn.Conv2d(in_channels=128, out_channels=64, kernel_size=(3, 3), stride=1, padding=1)\n",
    "        self.btch_4 = nn.BatchNorm2d(64)\n",
    "        self.up_sample_2 = nn.Upsample(scale_factor=2, mode='nearest')\n",
    "\n",
    "        self.out = nn.Conv2d(in_channels=64, out_channels=1, kernel_size=(3, 3), stride=1, padding=1)\n",
    "\n",
    "\n",
    "    def forward(self, x):\n",
    "        x = torch.relu(self.btch_1(self.conv_1(x)))\n",
    "        x = self.max_1(x)\n",
    "\n",
    "        x = torch.relu(self.btch_2(self.conv_2(x)))\n",
    "        x = self.max_2(x)\n",
    "\n",
    "        x = torch.relu(self.btch_bottle(self.bottle_neck(x)))\n",
    "\n",
    "        x = torch.relu(self.btch_3(self.conv_3(x)))\n",
    "        x = self.up_sample_1(x)\n",
    "\n",
    "        x = torch.relu(self.btch_4(self.conv_4(x)))\n",
    "        x = self.up_sample_2(x)\n",
    "\n",
    "        x = torch.sigmoid(self.out(x))\n",
    "\n",
    "        return x\n",
    "\n"
   ]
  },
  {
   "cell_type": "code",
   "execution_count": 60,
   "metadata": {},
   "outputs": [
    {
     "data": {
      "text/plain": [
       "DenisingAutoEncoder(\n",
       "  (conv_1): Conv2d(1, 64, kernel_size=(3, 3), stride=(1, 1), padding=(1, 1))\n",
       "  (btch_1): BatchNorm2d(64, eps=1e-05, momentum=0.1, affine=True, track_running_stats=True)\n",
       "  (max_1): MaxPool2d(kernel_size=(2, 2), stride=2, padding=0, dilation=1, ceil_mode=False)\n",
       "  (conv_2): Conv2d(64, 128, kernel_size=(3, 3), stride=(1, 1), padding=(1, 1))\n",
       "  (btch_2): BatchNorm2d(128, eps=1e-05, momentum=0.1, affine=True, track_running_stats=True)\n",
       "  (max_2): MaxPool2d(kernel_size=(2, 2), stride=2, padding=0, dilation=1, ceil_mode=False)\n",
       "  (bottle_neck): Conv2d(128, 256, kernel_size=(3, 3), stride=(1, 1), padding=(1, 1))\n",
       "  (btch_bottle): BatchNorm2d(256, eps=1e-05, momentum=0.1, affine=True, track_running_stats=True)\n",
       "  (conv_3): Conv2d(256, 128, kernel_size=(3, 3), stride=(1, 1), padding=(1, 1))\n",
       "  (btch_3): BatchNorm2d(128, eps=1e-05, momentum=0.1, affine=True, track_running_stats=True)\n",
       "  (up_sample_1): Upsample(scale_factor=2.0, mode=nearest)\n",
       "  (conv_4): Conv2d(128, 64, kernel_size=(3, 3), stride=(1, 1), padding=(1, 1))\n",
       "  (btch_4): BatchNorm2d(64, eps=1e-05, momentum=0.1, affine=True, track_running_stats=True)\n",
       "  (up_sample_2): Upsample(scale_factor=2.0, mode=nearest)\n",
       "  (out): Conv2d(64, 1, kernel_size=(3, 3), stride=(1, 1), padding=(1, 1))\n",
       ")"
      ]
     },
     "execution_count": 60,
     "metadata": {},
     "output_type": "execute_result"
    }
   ],
   "source": [
    "model = DenisingAutoEncoder().to(device)\n",
    "model"
   ]
  },
  {
   "attachments": {},
   "cell_type": "markdown",
   "metadata": {},
   "source": [
    "## Train"
   ]
  },
  {
   "cell_type": "code",
   "execution_count": 61,
   "metadata": {},
   "outputs": [],
   "source": [
    "criterion = nn.MSELoss()\n",
    "optimizer = optim.Adam(model.parameters(), lr=0.001)\n",
    "EPOCHS = 30\n",
    "NOISE_FACTOR=0.3"
   ]
  },
  {
   "cell_type": "code",
   "execution_count": 62,
   "metadata": {},
   "outputs": [],
   "source": [
    "def add_noise(inputs,noise_factor=0.3):\n",
    "\tnoisy = inputs + torch.randn_like(inputs) * noise_factor\n",
    "\tnoisy = torch.clip(noisy, 0., 1.)\n",
    "\treturn noisy"
   ]
  },
  {
   "cell_type": "code",
   "execution_count": 63,
   "metadata": {},
   "outputs": [
    {
     "name": "stdout",
     "output_type": "stream",
     "text": [
      "Epoch0: loss=0.0047792657278478146\n",
      "Epoch1: loss=0.00491326255723834\n",
      "Epoch2: loss=0.004475639201700687\n",
      "Epoch3: loss=0.004675999283790588\n",
      "Epoch4: loss=0.004393585026264191\n",
      "Epoch5: loss=0.003821273799985647\n",
      "Epoch6: loss=0.0038960068486630917\n",
      "Epoch7: loss=0.0043729087337851524\n",
      "Epoch8: loss=0.004397992510348558\n",
      "Epoch9: loss=0.004908377770334482\n",
      "Epoch10: loss=0.003559855977073312\n",
      "Epoch11: loss=0.004554697312414646\n",
      "Epoch12: loss=0.004243388306349516\n",
      "Epoch13: loss=0.0043142917566001415\n",
      "Epoch14: loss=0.0037290873005986214\n",
      "Epoch15: loss=0.004206500481814146\n",
      "Epoch16: loss=0.004343463107943535\n",
      "Epoch17: loss=0.0033401355613023043\n",
      "Epoch18: loss=0.003976930398494005\n",
      "Epoch19: loss=0.003911479376256466\n",
      "Epoch20: loss=0.0038912715390324593\n",
      "Epoch21: loss=0.0036126330960541964\n",
      "Epoch22: loss=0.004475550260394812\n",
      "Epoch23: loss=0.0035595993977040052\n",
      "Epoch24: loss=0.00404325220733881\n",
      "Epoch25: loss=0.00404199305921793\n",
      "Epoch26: loss=0.0037674056366086006\n",
      "Epoch27: loss=0.003646888304501772\n",
      "Epoch28: loss=0.0035373361315578222\n",
      "Epoch29: loss=0.0034788574557751417\n"
     ]
    }
   ],
   "source": [
    "for epoch in range(EPOCHS):\n",
    "\n",
    "    train_loss = 0\n",
    "\n",
    "    for images, labels in train_loader:\n",
    "\n",
    "        images = images.to(device)\n",
    "        noisy_images = add_noise(images, NOISE_FACTOR)\n",
    "\n",
    "        preds = model(noisy_images)\n",
    "\n",
    "        optimizer.zero_grad()\n",
    "\n",
    "        with torch.set_grad_enabled(True):\n",
    "            loss = criterion(preds, images)\n",
    "            loss.backward()\n",
    "            optimizer.step()\n",
    "\n",
    "        train_loss += loss\n",
    "\n",
    "    print(f'Epoch{epoch}: loss={loss}')\n"
   ]
  },
  {
   "attachments": {},
   "cell_type": "markdown",
   "metadata": {},
   "source": [
    "## Results"
   ]
  },
  {
   "cell_type": "code",
   "execution_count": 66,
   "metadata": {},
   "outputs": [
    {
     "data": {
      "image/png": "[encoded data removed]",
      "text/plain": [
       "<Figure size 2500x400 with 30 Axes>"
      ]
     },
     "metadata": {},
     "output_type": "display_data"
    }
   ],
   "source": [
    "dataiter = iter(test_loader)\n",
    "images, labels = next(dataiter)\n",
    "\n",
    "\n",
    "\n",
    "noisy_images = add_noise(images).to(device)\n",
    "\n",
    "output = model(noisy_images)\n",
    "\n",
    "mean = output.mean(dim=0)\n",
    "\n",
    "noisy_images = noisy_images.permute(0, 3, 1, 2)\n",
    "noisy_images = noisy_images.detach().cpu().numpy()\n",
    "\n",
    "images = images.permute(0, 3, 1, 2)\n",
    "images = images.detach().cpu().numpy()\n",
    "\n",
    "output = output.permute(0, 3, 1, 2)\n",
    "output = output.detach().cpu().numpy()\n",
    "\n",
    "fig, axes = plt.subplots(nrows=3, ncols=10, sharex=True, sharey=True, figsize=(25,4))\n",
    "\n",
    "for images, row in zip([noisy_images, images, output], axes):\n",
    "    for img, ax in zip(images, row):\n",
    "        ax.imshow(np.squeeze(img), cmap='gray')\n",
    "        ax.get_xaxis().set_visible(False)\n",
    "        ax.get_yaxis().set_visible(False)"
   ]
  }
 ],
 "metadata": {
  "kernelspec": {
   "display_name": "torchenv",
   "language": "python",
   "name": "torchenv"
  },
  "language_info": {
   "codemirror_mode": {
    "name": "ipython",
    "version": 3
   },
   "file_extension": ".py",
   "mimetype": "text/x-python",
   "name": "python",
   "nbconvert_exporter": "python",
   "pygments_lexer": "ipython3",
   "version": "3.10.8"
  },
  "orig_nbformat": 4
 },
 "nbformat": 4,
 "nbformat_minor": 2
}
