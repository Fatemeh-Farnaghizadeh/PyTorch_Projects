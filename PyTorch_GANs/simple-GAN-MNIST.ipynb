{
 "cells": [
  {
   "attachments": {},
   "cell_type": "markdown",
   "metadata": {},
   "source": [
    "## Imports\n"
   ]
  },
  {
   "cell_type": "code",
   "execution_count": 42,
   "metadata": {},
   "outputs": [],
   "source": [
    "import torch\n",
    "import torchvision\n",
    "from torch.utils.data import DataLoader\n",
    "from torchvision import datasets\n",
    "from torch import nn, optim\n",
    "from torchvision import transforms\n",
    "import torch.nn.functional as F\n",
    "from torch.utils.tensorboard import SummaryWriter"
   ]
  },
  {
   "attachments": {},
   "cell_type": "markdown",
   "metadata": {},
   "source": [
    "## Dataset"
   ]
  },
  {
   "cell_type": "code",
   "execution_count": 43,
   "metadata": {},
   "outputs": [],
   "source": [
    "transformer = transforms.Compose([\n",
    "    transforms.ToTensor(),\n",
    "    transforms.Normalize(mean=0.5, std=0.5)\n",
    "])"
   ]
  },
  {
   "cell_type": "code",
   "execution_count": 44,
   "metadata": {},
   "outputs": [],
   "source": [
    "dataset = datasets.MNIST(root='./data', train=True, download=True, transform=transformer)"
   ]
  },
  {
   "cell_type": "code",
   "execution_count": 45,
   "metadata": {},
   "outputs": [],
   "source": [
    "loader = DataLoader(dataset=dataset, batch_size=32, shuffle=True)"
   ]
  },
  {
   "cell_type": "code",
   "execution_count": 46,
   "metadata": {},
   "outputs": [],
   "source": [
    "fixed_noise = torch.randn((32, 100))"
   ]
  },
  {
   "attachments": {},
   "cell_type": "markdown",
   "metadata": {},
   "source": [
    "## Model"
   ]
  },
  {
   "cell_type": "code",
   "execution_count": 47,
   "metadata": {},
   "outputs": [],
   "source": [
    "class Generator(nn.Module):\n",
    "\n",
    "    def __init__(self):\n",
    "        super().__init__()\n",
    "        self.fc1 = nn.Linear(in_features=100, out_features=256)\n",
    "        self.bn1 = nn.BatchNorm1d(256, 0.2)\n",
    "        self.fc2 = nn.Linear(in_features=256, out_features=512)\n",
    "        self.bn2 = nn.BatchNorm1d(512, 0.2)\n",
    "        self.fc3 = nn.Linear(in_features=512, out_features=784)\n",
    "        \n",
    "\n",
    "    def forward(self, x):\n",
    "        x = F.leaky_relu(self.fc1(x), negative_slope=0.2)\n",
    "        x = self.bn1(x)\n",
    "\n",
    "        x = F.leaky_relu(self.fc2(x), negative_slope=0.2)\n",
    "        x = self.bn2(x) \n",
    "\n",
    "        x = torch.tanh(self.fc3(x))\n",
    "\n",
    "        return x\n"
   ]
  },
  {
   "cell_type": "code",
   "execution_count": 48,
   "metadata": {},
   "outputs": [],
   "source": [
    "class Discriminator(nn.Module):\n",
    "    \n",
    "    def __init__(self):\n",
    "        super().__init__()\n",
    "        self.fc1 = nn.Linear(in_features=784, out_features=512)\n",
    "        self.fc2 = nn.Linear(in_features=512, out_features=256)\n",
    "        self.fc3 = nn.Linear(in_features=256, out_features=1)\n",
    "\n",
    "        \n",
    "    def forward(self, x):\n",
    "        x = F.leaky_relu(self.fc1(x), negative_slope=0.2)\n",
    "        \n",
    "        x = F.leaky_relu(self.fc2(x), negative_slope=0.2)\n",
    "\n",
    "        x = torch.sigmoid(self.fc3(x))\n",
    "\n",
    "        return x"
   ]
  },
  {
   "cell_type": "code",
   "execution_count": 49,
   "metadata": {},
   "outputs": [],
   "source": [
    "generator = Generator()\n",
    "discriminator = Discriminator()"
   ]
  },
  {
   "attachments": {},
   "cell_type": "markdown",
   "metadata": {},
   "source": [
    "## Train"
   ]
  },
  {
   "cell_type": "code",
   "execution_count": 50,
   "metadata": {},
   "outputs": [],
   "source": [
    "EPOCHS = 100\n",
    "\n",
    "optimizer_D = optim.Adam(discriminator.parameters(), lr=0.0003)\n",
    "optimizer_G = optim.Adam(generator.parameters(), lr=0.0003)\n",
    "\n",
    "criterion_D = nn.BCELoss()\n",
    "criterion_G = nn.BCELoss()\n",
    "\n",
    "writer_fake = SummaryWriter(f\"logs_d/fake\")\n",
    "writer_real = SummaryWriter(f\"logs_d/real\")\n",
    "step = 0"
   ]
  },
  {
   "cell_type": "code",
   "execution_count": 51,
   "metadata": {},
   "outputs": [
    {
     "name": "stdout",
     "output_type": "stream",
     "text": [
      "Epoch [0/100] Batch 0/1875                       Loss D: 0.7045, loss G: 0.6918\n",
      "Epoch [1/100] Batch 0/1875                       Loss D: 0.1933, loss G: 2.7045\n",
      "Epoch [2/100] Batch 0/1875                       Loss D: 0.3889, loss G: 3.2087\n",
      "Epoch [3/100] Batch 0/1875                       Loss D: 0.5506, loss G: 2.2984\n",
      "Epoch [4/100] Batch 0/1875                       Loss D: 0.2970, loss G: 2.3744\n",
      "Epoch [5/100] Batch 0/1875                       Loss D: 0.4298, loss G: 1.5309\n",
      "Epoch [6/100] Batch 0/1875                       Loss D: 0.3409, loss G: 2.1861\n",
      "Epoch [7/100] Batch 0/1875                       Loss D: 0.4517, loss G: 2.3909\n",
      "Epoch [8/100] Batch 0/1875                       Loss D: 0.4394, loss G: 1.9841\n",
      "Epoch [9/100] Batch 0/1875                       Loss D: 0.3921, loss G: 1.3599\n",
      "Epoch [10/100] Batch 0/1875                       Loss D: 0.4236, loss G: 1.8371\n",
      "Epoch [11/100] Batch 0/1875                       Loss D: 0.3509, loss G: 1.5329\n",
      "Epoch [12/100] Batch 0/1875                       Loss D: 0.3158, loss G: 2.3854\n",
      "Epoch [13/100] Batch 0/1875                       Loss D: 0.6059, loss G: 1.3507\n",
      "Epoch [14/100] Batch 0/1875                       Loss D: 0.4074, loss G: 1.6539\n",
      "Epoch [15/100] Batch 0/1875                       Loss D: 0.5142, loss G: 1.6527\n",
      "Epoch [16/100] Batch 0/1875                       Loss D: 0.4974, loss G: 1.7053\n",
      "Epoch [17/100] Batch 0/1875                       Loss D: 0.4434, loss G: 1.5603\n",
      "Epoch [18/100] Batch 0/1875                       Loss D: 0.4734, loss G: 1.4506\n",
      "Epoch [19/100] Batch 0/1875                       Loss D: 0.4005, loss G: 1.6739\n",
      "Epoch [20/100] Batch 0/1875                       Loss D: 0.4891, loss G: 1.1356\n",
      "Epoch [21/100] Batch 0/1875                       Loss D: 0.4611, loss G: 1.4681\n",
      "Epoch [22/100] Batch 0/1875                       Loss D: 0.5791, loss G: 1.0547\n",
      "Epoch [23/100] Batch 0/1875                       Loss D: 0.2815, loss G: 2.1694\n",
      "Epoch [24/100] Batch 0/1875                       Loss D: 0.4030, loss G: 1.6739\n",
      "Epoch [25/100] Batch 0/1875                       Loss D: 0.4274, loss G: 1.2605\n",
      "Epoch [26/100] Batch 0/1875                       Loss D: 0.3656, loss G: 1.5582\n",
      "Epoch [27/100] Batch 0/1875                       Loss D: 0.3919, loss G: 1.8843\n",
      "Epoch [28/100] Batch 0/1875                       Loss D: 0.4304, loss G: 1.9169\n",
      "Epoch [29/100] Batch 0/1875                       Loss D: 0.3784, loss G: 1.7215\n",
      "Epoch [30/100] Batch 0/1875                       Loss D: 0.3560, loss G: 1.4393\n",
      "Epoch [31/100] Batch 0/1875                       Loss D: 0.3470, loss G: 2.1598\n",
      "Epoch [32/100] Batch 0/1875                       Loss D: 0.3775, loss G: 1.9424\n",
      "Epoch [33/100] Batch 0/1875                       Loss D: 0.5308, loss G: 2.0289\n",
      "Epoch [34/100] Batch 0/1875                       Loss D: 0.3164, loss G: 2.1150\n",
      "Epoch [35/100] Batch 0/1875                       Loss D: 0.4295, loss G: 1.9730\n",
      "Epoch [36/100] Batch 0/1875                       Loss D: 0.4273, loss G: 2.1016\n",
      "Epoch [37/100] Batch 0/1875                       Loss D: 0.4287, loss G: 1.6058\n",
      "Epoch [38/100] Batch 0/1875                       Loss D: 0.4464, loss G: 1.9083\n",
      "Epoch [39/100] Batch 0/1875                       Loss D: 0.4096, loss G: 1.6936\n",
      "Epoch [40/100] Batch 0/1875                       Loss D: 0.3396, loss G: 2.4155\n",
      "Epoch [41/100] Batch 0/1875                       Loss D: 0.4730, loss G: 1.7850\n",
      "Epoch [42/100] Batch 0/1875                       Loss D: 0.6320, loss G: 1.1778\n",
      "Epoch [43/100] Batch 0/1875                       Loss D: 0.3682, loss G: 2.2645\n",
      "Epoch [44/100] Batch 0/1875                       Loss D: 0.3150, loss G: 1.6616\n",
      "Epoch [45/100] Batch 0/1875                       Loss D: 0.3780, loss G: 2.0465\n",
      "Epoch [46/100] Batch 0/1875                       Loss D: 0.4969, loss G: 2.0627\n",
      "Epoch [47/100] Batch 0/1875                       Loss D: 0.4661, loss G: 1.8754\n",
      "Epoch [48/100] Batch 0/1875                       Loss D: 0.5449, loss G: 1.2926\n",
      "Epoch [49/100] Batch 0/1875                       Loss D: 0.3826, loss G: 2.2291\n",
      "Epoch [50/100] Batch 0/1875                       Loss D: 0.4223, loss G: 2.1373\n",
      "Epoch [51/100] Batch 0/1875                       Loss D: 0.4305, loss G: 1.8451\n",
      "Epoch [52/100] Batch 0/1875                       Loss D: 0.5731, loss G: 1.0236\n",
      "Epoch [53/100] Batch 0/1875                       Loss D: 0.3632, loss G: 1.7255\n",
      "Epoch [54/100] Batch 0/1875                       Loss D: 0.3857, loss G: 1.5692\n",
      "Epoch [55/100] Batch 0/1875                       Loss D: 0.3007, loss G: 1.8127\n",
      "Epoch [56/100] Batch 0/1875                       Loss D: 0.4011, loss G: 1.8372\n",
      "Epoch [57/100] Batch 0/1875                       Loss D: 0.5006, loss G: 2.4173\n",
      "Epoch [58/100] Batch 0/1875                       Loss D: 0.4444, loss G: 1.9748\n",
      "Epoch [59/100] Batch 0/1875                       Loss D: 0.4952, loss G: 1.9735\n",
      "Epoch [60/100] Batch 0/1875                       Loss D: 0.3816, loss G: 1.9597\n",
      "Epoch [61/100] Batch 0/1875                       Loss D: 0.4055, loss G: 1.8716\n",
      "Epoch [62/100] Batch 0/1875                       Loss D: 0.3869, loss G: 1.5539\n",
      "Epoch [63/100] Batch 0/1875                       Loss D: 0.3555, loss G: 1.9435\n",
      "Epoch [64/100] Batch 0/1875                       Loss D: 0.3321, loss G: 2.4208\n",
      "Epoch [65/100] Batch 0/1875                       Loss D: 0.4551, loss G: 1.6933\n",
      "Epoch [66/100] Batch 0/1875                       Loss D: 0.3962, loss G: 1.6819\n",
      "Epoch [67/100] Batch 0/1875                       Loss D: 0.3797, loss G: 1.8674\n",
      "Epoch [68/100] Batch 0/1875                       Loss D: 0.4308, loss G: 2.0097\n",
      "Epoch [69/100] Batch 0/1875                       Loss D: 0.5007, loss G: 1.8246\n",
      "Epoch [70/100] Batch 0/1875                       Loss D: 0.7845, loss G: 1.4707\n",
      "Epoch [71/100] Batch 0/1875                       Loss D: 0.4265, loss G: 1.7087\n",
      "Epoch [72/100] Batch 0/1875                       Loss D: 0.4504, loss G: 2.1104\n",
      "Epoch [73/100] Batch 0/1875                       Loss D: 0.3110, loss G: 2.1503\n",
      "Epoch [74/100] Batch 0/1875                       Loss D: 0.3207, loss G: 1.8991\n",
      "Epoch [75/100] Batch 0/1875                       Loss D: 0.6855, loss G: 0.9115\n",
      "Epoch [76/100] Batch 0/1875                       Loss D: 0.3808, loss G: 2.2970\n",
      "Epoch [77/100] Batch 0/1875                       Loss D: 0.3077, loss G: 2.6803\n",
      "Epoch [78/100] Batch 0/1875                       Loss D: 0.4017, loss G: 2.4905\n",
      "Epoch [79/100] Batch 0/1875                       Loss D: 0.3386, loss G: 2.3791\n",
      "Epoch [80/100] Batch 0/1875                       Loss D: 0.4355, loss G: 1.3686\n",
      "Epoch [81/100] Batch 0/1875                       Loss D: 0.3590, loss G: 2.2496\n",
      "Epoch [82/100] Batch 0/1875                       Loss D: 0.3970, loss G: 1.9197\n",
      "Epoch [83/100] Batch 0/1875                       Loss D: 0.3812, loss G: 1.8470\n",
      "Epoch [84/100] Batch 0/1875                       Loss D: 0.3975, loss G: 1.5173\n",
      "Epoch [85/100] Batch 0/1875                       Loss D: 0.3869, loss G: 1.9606\n",
      "Epoch [86/100] Batch 0/1875                       Loss D: 0.4717, loss G: 1.2152\n",
      "Epoch [87/100] Batch 0/1875                       Loss D: 0.3334, loss G: 1.8251\n",
      "Epoch [88/100] Batch 0/1875                       Loss D: 0.3389, loss G: 2.2520\n",
      "Epoch [89/100] Batch 0/1875                       Loss D: 0.3470, loss G: 1.9541\n",
      "Epoch [90/100] Batch 0/1875                       Loss D: 0.3234, loss G: 1.9357\n",
      "Epoch [91/100] Batch 0/1875                       Loss D: 0.4109, loss G: 2.3040\n",
      "Epoch [92/100] Batch 0/1875                       Loss D: 0.3692, loss G: 2.2754\n",
      "Epoch [93/100] Batch 0/1875                       Loss D: 0.4715, loss G: 2.1032\n",
      "Epoch [94/100] Batch 0/1875                       Loss D: 0.4252, loss G: 2.0103\n",
      "Epoch [95/100] Batch 0/1875                       Loss D: 0.4119, loss G: 2.2946\n",
      "Epoch [96/100] Batch 0/1875                       Loss D: 0.4482, loss G: 2.2508\n",
      "Epoch [97/100] Batch 0/1875                       Loss D: 0.4326, loss G: 2.9756\n",
      "Epoch [98/100] Batch 0/1875                       Loss D: 0.3463, loss G: 2.1054\n",
      "Epoch [99/100] Batch 0/1875                       Loss D: 0.4399, loss G: 2.7792\n"
     ]
    }
   ],
   "source": [
    "for epoch in range(EPOCHS):\n",
    "\n",
    "    for i , (real_images, _) in enumerate(loader):\n",
    "\n",
    "        #Training discriminator\n",
    "        discriminator.train()\n",
    "\n",
    "        optimizer_D.zero_grad()\n",
    "\n",
    "        real_labels = torch.ones(real_images.size(0), 1)\n",
    "        fake_labels = torch.zeros(real_images.size(0), 1)\n",
    "\n",
    "        real_images = real_images.view(real_images.size(0), -1)\n",
    "\n",
    "        noise = torch.randn(real_images.size(0), 100)\n",
    "        fake_images = generator(noise)\n",
    "\n",
    "        real_outputs = discriminator(real_images)\n",
    "        fake_outputs = discriminator(fake_images.detach())\n",
    "\n",
    "        real_loss = criterion_D(real_outputs, real_labels)\n",
    "        fake_loss = criterion_D(fake_outputs, fake_labels)\n",
    "\n",
    "        loss_d = (real_loss + fake_loss) / 2\n",
    "\n",
    "        loss_d.backward()\n",
    "        optimizer_D.step()\n",
    "\n",
    "        #Training Genertor\n",
    "        discriminator.eval()\n",
    "             \n",
    "        optimizer_G.zero_grad()\n",
    "\n",
    "        fake_outputs = discriminator(fake_images)\n",
    "\n",
    "        loss_g = criterion_G(fake_outputs, real_labels)\n",
    "\n",
    "        loss_g.backward()\n",
    "        optimizer_G.step()\n",
    "        \n",
    "        if i== 0:\n",
    "            print(\n",
    "                f\"Epoch [{epoch}/{EPOCHS}] Batch {i}/{len(loader)} \\\n",
    "                      Loss D: {loss_d:.4f}, loss G: {loss_g:.4f}\"\n",
    "            )\n",
    "\n",
    "            with torch.no_grad():\n",
    "                fake_images = generator(fixed_noise).reshape(-1, 1, 28, 28)\n",
    "                data = real_images.reshape(-1, 1, 28, 28)\n",
    "                img_grid_fake = torchvision.utils.make_grid(fake_images, normalize=True)\n",
    "                img_grid_real = torchvision.utils.make_grid(data, normalize=True)\n",
    "\n",
    "                writer_fake.add_image(\n",
    "                    \"Mnist Fake Images\", img_grid_fake, global_step=step\n",
    "                )\n",
    "                writer_real.add_image(\n",
    "                    \"Mnist Real Images\", img_grid_real, global_step=step\n",
    "                )\n",
    "                step += 1"
   ]
  },
  {
   "cell_type": "code",
   "execution_count": 52,
   "metadata": {},
   "outputs": [],
   "source": [
    "FILE_GEN = 'generator_model.pth'\n",
    "FILE_DISC = 'discriminator.pth'\n",
    "torch.save(generator, FILE_GEN)\n",
    "torch.save(discriminator, FILE_DISC)"
   ]
  }
 ],
 "metadata": {
  "kernelspec": {
   "display_name": "torchenv",
   "language": "python",
   "name": "torchenv"
  },
  "language_info": {
   "codemirror_mode": {
    "name": "ipython",
    "version": 3
   },
   "file_extension": ".py",
   "mimetype": "text/x-python",
   "name": "python",
   "nbconvert_exporter": "python",
   "pygments_lexer": "ipython3",
   "version": "3.10.8"
  },
  "orig_nbformat": 4
 },
 "nbformat": 4,
 "nbformat_minor": 2
}
