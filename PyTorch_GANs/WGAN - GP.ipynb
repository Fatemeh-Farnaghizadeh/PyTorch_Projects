{
 "cells": [
  {
   "attachments": {},
   "cell_type": "markdown",
   "metadata": {},
   "source": [
    "## Imports\n"
   ]
  },
  {
   "cell_type": "code",
   "execution_count": 1,
   "metadata": {},
   "outputs": [],
   "source": [
    "import torch\n",
    "import torchvision\n",
    "from torch import nn, optim\n",
    "from torch.utils.data import DataLoader\n",
    "from torchvision import datasets, transforms\n",
    "from torch.utils.tensorboard import SummaryWriter"
   ]
  },
  {
   "attachments": {},
   "cell_type": "markdown",
   "metadata": {},
   "source": [
    "## Dataset"
   ]
  },
  {
   "cell_type": "code",
   "execution_count": 2,
   "metadata": {},
   "outputs": [],
   "source": [
    "IN_CHANNELS = 1\n",
    "IMG_SIZE = 64\n",
    "BATCH_SIZE = 128"
   ]
  },
  {
   "cell_type": "code",
   "execution_count": 3,
   "metadata": {},
   "outputs": [],
   "source": [
    "transform = transforms.Compose([\n",
    "    transforms.Resize(IMG_SIZE),\n",
    "    transforms.ToTensor(),\n",
    "    transforms.Normalize([0.5 for _ in range(IN_CHANNELS)], [0.5 for _ in range(IN_CHANNELS)])\n",
    "])"
   ]
  },
  {
   "cell_type": "code",
   "execution_count": 4,
   "metadata": {},
   "outputs": [],
   "source": [
    "dataset = datasets.MNIST(root='./data', train=True, download=True, transform=transform)\n",
    "loader = DataLoader(dataset=dataset, batch_size=BATCH_SIZE, shuffle=True)"
   ]
  },
  {
   "attachments": {},
   "cell_type": "markdown",
   "metadata": {},
   "source": [
    "## Model"
   ]
  },
  {
   "cell_type": "code",
   "execution_count": 5,
   "metadata": {},
   "outputs": [
    {
     "data": {
      "text/plain": [
       "device(type='cuda')"
      ]
     },
     "execution_count": 5,
     "metadata": {},
     "output_type": "execute_result"
    }
   ],
   "source": [
    "device = torch.device('cuda' if torch.cuda.is_available() else 'cpu')\n",
    "device"
   ]
  },
  {
   "cell_type": "code",
   "execution_count": 6,
   "metadata": {},
   "outputs": [],
   "source": [
    "def initialize_wieghts(model):\n",
    "\n",
    "    for m in model.modules():\n",
    "        if isinstance(m, (nn.Conv2d, nn.ConvTranspose2d, nn.BatchNorm2d)):\n",
    "            torch.nn.init.normal_(m.weight.data ,0.0, 0.02)\n"
   ]
  },
  {
   "cell_type": "code",
   "execution_count": 7,
   "metadata": {},
   "outputs": [],
   "source": [
    "class Generator(nn.Module):\n",
    "\n",
    "    def __init__(self, img_channels):\n",
    "        super().__init__()\n",
    "        self.layers = nn.Sequential(\n",
    "            self.gen_block(100, 1024, 4, 1, 0),\n",
    "            self.gen_block(1024, 512, 4, 2, 1),\n",
    "            self.gen_block(512, 256, 4, 2, 1),\n",
    "            self.gen_block(256, 128, 4, 2, 1),\n",
    "            nn.ConvTranspose2d(128, img_channels, 4, 2, 1),\n",
    "            nn.Tanh()\n",
    "        )\n",
    "\n",
    "    def gen_block(self, in_channels, out_channels, kernel_size, stride, padding):\n",
    "        block_layers = nn.Sequential(\n",
    "            nn.ConvTranspose2d(\n",
    "                in_channels,\n",
    "                out_channels,\n",
    "                kernel_size,\n",
    "                stride,\n",
    "                padding,\n",
    "                bias=False\n",
    "            ),\n",
    "            nn.BatchNorm2d(out_channels),  \n",
    "            nn.ReLU()\n",
    "        )\n",
    "\n",
    "        return block_layers\n",
    "        \n",
    "    def forward(self, x):\n",
    "        x = self.layers(x)\n",
    "\n",
    "        return x\n"
   ]
  },
  {
   "cell_type": "code",
   "execution_count": 8,
   "metadata": {},
   "outputs": [],
   "source": [
    "class Discriminator(nn.Module):\n",
    "    def __init__(self, img_channels):\n",
    "        super(Discriminator, self).__init__()\n",
    "        self.disc = nn.Sequential(\n",
    "            nn.Conv2d(img_channels, 64, kernel_size=4, stride=2, padding=1),\n",
    "            nn.LeakyReLU(0.2),\n",
    "            self._block(64, 128, 4, 2, 1),\n",
    "            self._block(128, 256, 4, 2, 1),\n",
    "            self._block(256, 512, 4, 2, 1),\n",
    "            nn.Conv2d(512, img_channels, kernel_size=4, stride=2, padding=0)\n",
    "        )\n",
    "\n",
    "    def _block(self, in_channels, out_channels, kernel_size, stride, padding):\n",
    "        return nn.Sequential(\n",
    "            nn.Conv2d(\n",
    "                in_channels,\n",
    "                out_channels,\n",
    "                kernel_size,\n",
    "                stride,\n",
    "                padding,\n",
    "                bias=False,#\n",
    "            ),\n",
    "\n",
    "            nn.InstanceNorm2d(out_channels, affine=True),#\n",
    "            nn.LeakyReLU(0.2),\n",
    "        )\n",
    "\n",
    "    def forward(self, x):\n",
    "        return self.disc(x)\n"
   ]
  },
  {
   "cell_type": "code",
   "execution_count": 9,
   "metadata": {},
   "outputs": [],
   "source": [
    "generator = Generator(IN_CHANNELS).to(device)\n",
    "initialize_wieghts(generator)\n",
    "\n",
    "critic = Discriminator(IN_CHANNELS).to(device)\n",
    "initialize_wieghts(critic)\n"
   ]
  },
  {
   "attachments": {},
   "cell_type": "markdown",
   "metadata": {},
   "source": [
    "## Train"
   ]
  },
  {
   "cell_type": "code",
   "execution_count": 10,
   "metadata": {},
   "outputs": [],
   "source": [
    "fixed_noise = torch.randn(32, 100, 1, 1).to(device)"
   ]
  },
  {
   "cell_type": "code",
   "execution_count": 11,
   "metadata": {},
   "outputs": [],
   "source": [
    "EPOCHS = 15\n",
    "LR = 0.00005\n",
    "LAMBDA_GP = 10\n",
    "n_critic = 5\n",
    "\n",
    "optimizer_G = optim.Adam(generator.parameters(), lr=LR)\n",
    "\n",
    "optimizer_C = optim.Adam(critic.parameters(), lr=LR)\n",
    "\n",
    "writer_fake = SummaryWriter(f\"logs_WGAN_PG/fake\")\n",
    "writer_real = SummaryWriter(f\"logs_WGAN_PG/real\")\n",
    "step = 0"
   ]
  },
  {
   "cell_type": "code",
   "execution_count": 12,
   "metadata": {},
   "outputs": [
    {
     "data": {
      "text/plain": [
       "Generator(\n",
       "  (layers): Sequential(\n",
       "    (0): Sequential(\n",
       "      (0): ConvTranspose2d(100, 1024, kernel_size=(4, 4), stride=(1, 1), bias=False)\n",
       "      (1): BatchNorm2d(1024, eps=1e-05, momentum=0.1, affine=True, track_running_stats=True)\n",
       "      (2): ReLU()\n",
       "    )\n",
       "    (1): Sequential(\n",
       "      (0): ConvTranspose2d(1024, 512, kernel_size=(4, 4), stride=(2, 2), padding=(1, 1), bias=False)\n",
       "      (1): BatchNorm2d(512, eps=1e-05, momentum=0.1, affine=True, track_running_stats=True)\n",
       "      (2): ReLU()\n",
       "    )\n",
       "    (2): Sequential(\n",
       "      (0): ConvTranspose2d(512, 256, kernel_size=(4, 4), stride=(2, 2), padding=(1, 1), bias=False)\n",
       "      (1): BatchNorm2d(256, eps=1e-05, momentum=0.1, affine=True, track_running_stats=True)\n",
       "      (2): ReLU()\n",
       "    )\n",
       "    (3): Sequential(\n",
       "      (0): ConvTranspose2d(256, 128, kernel_size=(4, 4), stride=(2, 2), padding=(1, 1), bias=False)\n",
       "      (1): BatchNorm2d(128, eps=1e-05, momentum=0.1, affine=True, track_running_stats=True)\n",
       "      (2): ReLU()\n",
       "    )\n",
       "    (4): ConvTranspose2d(128, 1, kernel_size=(4, 4), stride=(2, 2), padding=(1, 1))\n",
       "    (5): Tanh()\n",
       "  )\n",
       ")"
      ]
     },
     "execution_count": 12,
     "metadata": {},
     "output_type": "execute_result"
    }
   ],
   "source": [
    "generator.train()"
   ]
  },
  {
   "cell_type": "code",
   "execution_count": 13,
   "metadata": {},
   "outputs": [
    {
     "data": {
      "text/plain": [
       "Discriminator(\n",
       "  (disc): Sequential(\n",
       "    (0): Conv2d(1, 64, kernel_size=(4, 4), stride=(2, 2), padding=(1, 1))\n",
       "    (1): LeakyReLU(negative_slope=0.2)\n",
       "    (2): Sequential(\n",
       "      (0): Conv2d(64, 128, kernel_size=(4, 4), stride=(2, 2), padding=(1, 1), bias=False)\n",
       "      (1): InstanceNorm2d(128, eps=1e-05, momentum=0.1, affine=True, track_running_stats=False)\n",
       "      (2): LeakyReLU(negative_slope=0.2)\n",
       "    )\n",
       "    (3): Sequential(\n",
       "      (0): Conv2d(128, 256, kernel_size=(4, 4), stride=(2, 2), padding=(1, 1), bias=False)\n",
       "      (1): InstanceNorm2d(256, eps=1e-05, momentum=0.1, affine=True, track_running_stats=False)\n",
       "      (2): LeakyReLU(negative_slope=0.2)\n",
       "    )\n",
       "    (4): Sequential(\n",
       "      (0): Conv2d(256, 512, kernel_size=(4, 4), stride=(2, 2), padding=(1, 1), bias=False)\n",
       "      (1): InstanceNorm2d(512, eps=1e-05, momentum=0.1, affine=True, track_running_stats=False)\n",
       "      (2): LeakyReLU(negative_slope=0.2)\n",
       "    )\n",
       "    (5): Conv2d(512, 1, kernel_size=(4, 4), stride=(2, 2))\n",
       "  )\n",
       ")"
      ]
     },
     "execution_count": 13,
     "metadata": {},
     "output_type": "execute_result"
    }
   ],
   "source": [
    "critic.train()"
   ]
  },
  {
   "cell_type": "code",
   "execution_count": 14,
   "metadata": {},
   "outputs": [],
   "source": [
    "def gradient_penalty(critic, reals, fakes, device='cpu'):\n",
    "    BATCH, C, H, W = reals.shape\n",
    "    epsilone = torch.rand(BATCH, 1, 1, 1).repeat(1, C, H, W).to(device)\n",
    "\n",
    "    interpolated_images = epsilone * reals + (1 - epsilone) * fakes\n",
    "    critic_outputs = critic(interpolated_images)\n",
    "\n",
    "    gradient = torch.autograd.grad(\n",
    "        outputs=critic_outputs,\n",
    "        inputs=interpolated_images,\n",
    "        grad_outputs=torch.ones_like(critic_outputs),\n",
    "        create_graph=True,\n",
    "        retain_graph=True,\n",
    "    )[0]\n",
    "\n",
    "    gradient = gradient.view(gradient.shape[0], -1)\n",
    "    gradient_norm = gradient.norm(2, dim=1)\n",
    "    gradient_penalty = torch.mean((gradient_norm - 1) ** 2)\n",
    "    \n",
    "    return gradient_penalty \n",
    "\n",
    "\n"
   ]
  },
  {
   "cell_type": "code",
   "execution_count": 15,
   "metadata": {},
   "outputs": [
    {
     "name": "stdout",
     "output_type": "stream",
     "text": [
      "Epoch [0/15] Batch 0/469                       Loss C: 100.7502, loss G: -1.2579\n",
      "Epoch [1/15] Batch 0/469                       Loss C: -53.6851, loss G: 56.1127\n",
      "Epoch [2/15] Batch 0/469                       Loss C: -23.7363, loss G: 48.7729\n",
      "Epoch [3/15] Batch 0/469                       Loss C: -15.9419, loss G: 50.2393\n",
      "Epoch [4/15] Batch 0/469                       Loss C: -11.7129, loss G: 48.3039\n"
     ]
    },
    {
     "ename": "KeyboardInterrupt",
     "evalue": "",
     "output_type": "error",
     "traceback": [
      "\u001b[1;31m---------------------------------------------------------------------------\u001b[0m",
      "\u001b[1;31mKeyboardInterrupt\u001b[0m                         Traceback (most recent call last)",
      "Cell \u001b[1;32mIn[15], line 12\u001b[0m\n\u001b[0;32m      8\u001b[0m \u001b[39mfor\u001b[39;00m _ \u001b[39min\u001b[39;00m \u001b[39mrange\u001b[39m(\u001b[39m0\u001b[39m, n_critic):\n\u001b[0;32m     10\u001b[0m     real_images \u001b[39m=\u001b[39m real_images\u001b[39m.\u001b[39mto(device)\n\u001b[1;32m---> 12\u001b[0m     noise \u001b[39m=\u001b[39m torch\u001b[39m.\u001b[39;49mrandn(real_images\u001b[39m.\u001b[39;49mshape[\u001b[39m0\u001b[39;49m], \u001b[39m100\u001b[39;49m, \u001b[39m1\u001b[39;49m, \u001b[39m1\u001b[39;49m)\u001b[39m.\u001b[39;49mto(device)\n\u001b[0;32m     13\u001b[0m     fake_images \u001b[39m=\u001b[39m generator(noise)\n\u001b[0;32m     15\u001b[0m     critic_real \u001b[39m=\u001b[39m critic(real_images)\u001b[39m.\u001b[39mreshape(\u001b[39m-\u001b[39m\u001b[39m1\u001b[39m)\n",
      "\u001b[1;31mKeyboardInterrupt\u001b[0m: "
     ]
    }
   ],
   "source": [
    "for epoch in range(EPOCHS):\n",
    "\n",
    "    for i, (real_images, _) in enumerate(loader):\n",
    "        #Training Discriminator\n",
    "\n",
    "        critic.train()\n",
    "\n",
    "        for _ in range(0, n_critic):\n",
    "\n",
    "            real_images = real_images.to(device)\n",
    "\n",
    "            noise = torch.randn(real_images.shape[0], 100, 1, 1).to(device)\n",
    "            fake_images = generator(noise)\n",
    "\n",
    "            critic_real = critic(real_images).reshape(-1)\n",
    "        \n",
    "            critic_fake = critic(fake_images).reshape(-1)\n",
    "\n",
    "            gp = gradient_penalty(critic, real_images, fake_images, device=device)\n",
    "        \n",
    "            loss_C = -(torch.mean(critic_real) - torch.mean(critic_fake)) + LAMBDA_GP * gp\n",
    "\n",
    "            optimizer_C.zero_grad()\n",
    "            loss_C.backward(retain_graph=True)\n",
    "            optimizer_C.step()\n",
    "\n",
    "\n",
    "        #Training Discriminator\n",
    "\n",
    "        critic.eval()\n",
    "        \n",
    "        gen_fake = critic(fake_images).reshape(-1)\n",
    "\n",
    "        loss_G = -torch.mean(gen_fake)\n",
    "\n",
    "        optimizer_G.zero_grad()\n",
    "        loss_G.backward()\n",
    "        optimizer_G.step()\n",
    "\n",
    "\n",
    "        if i== 0:\n",
    "            print(\n",
    "                f\"Epoch [{epoch}/{EPOCHS}] Batch {i}/{len(loader)} \\\n",
    "                      Loss C: {loss_C:.4f}, loss G: {loss_G:.4f}\"\n",
    "            )\n",
    "\n",
    "            with torch.no_grad():\n",
    "                fake_images = generator(fixed_noise)\n",
    "                data = real_images\n",
    "                img_grid_fake = torchvision.utils.make_grid(fake_images[:32], normalize=True)\n",
    "                img_grid_real = torchvision.utils.make_grid(data[:32], normalize=True)\n",
    "\n",
    "                writer_fake.add_image(\n",
    "                    \"Mnist Fake Images\", img_grid_fake, global_step=step\n",
    "                )\n",
    "                writer_real.add_image(\n",
    "                    \"Mnist Real Images\", img_grid_real, global_step=step\n",
    "                )\n",
    "                step += 1\n",
    "\n",
    "        "
   ]
  }
 ],
 "metadata": {
  "kernelspec": {
   "display_name": "Object_Tracking_YOLOv8_using_Feature_extractor_Custom_Dataset_env",
   "language": "python",
   "name": "object_tracking_yolov8_using_feature_extractor_custom_dataset_env"
  },
  "language_info": {
   "codemirror_mode": {
    "name": "ipython",
    "version": 3
   },
   "file_extension": ".py",
   "mimetype": "text/x-python",
   "name": "python",
   "nbconvert_exporter": "python",
   "pygments_lexer": "ipython3",
   "version": "3.10.11"
  },
  "orig_nbformat": 4
 },
 "nbformat": 4,
 "nbformat_minor": 2
}
