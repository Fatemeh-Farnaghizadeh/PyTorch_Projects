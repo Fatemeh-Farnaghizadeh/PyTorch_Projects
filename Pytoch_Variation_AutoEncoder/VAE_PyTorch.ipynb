{
 "cells": [
  {
   "attachments": {},
   "cell_type": "markdown",
   "metadata": {},
   "source": [
    "## Imports"
   ]
  },
  {
   "cell_type": "code",
   "execution_count": null,
   "metadata": {},
   "outputs": [],
   "source": [
    "import torch\n",
    "from torch import nn, optim\n",
    "from torch.utils.data import DataLoader\n",
    "from torchvision import datasets, transforms\n",
    "import numpy as np\n",
    "import matplotlib.pyplot as plt"
   ]
  },
  {
   "attachments": {},
   "cell_type": "markdown",
   "metadata": {},
   "source": [
    "## Data"
   ]
  },
  {
   "cell_type": "code",
   "execution_count": 33,
   "metadata": {},
   "outputs": [
    {
     "data": {
      "text/plain": [
       "torch.Size([1, 28, 28])"
      ]
     },
     "execution_count": 33,
     "metadata": {},
     "output_type": "execute_result"
    }
   ],
   "source": [
    "train_data = datasets.MNIST(root='./data', train=True, download=True, transform=transforms.ToTensor())\n",
    "train_data[0][0].shape"
   ]
  },
  {
   "cell_type": "code",
   "execution_count": 34,
   "metadata": {},
   "outputs": [],
   "source": [
    "train_loader = DataLoader(dataset=train_data, batch_size=16, shuffle=True)"
   ]
  },
  {
   "attachments": {},
   "cell_type": "markdown",
   "metadata": {},
   "source": [
    "## Model"
   ]
  },
  {
   "cell_type": "code",
   "execution_count": 35,
   "metadata": {},
   "outputs": [],
   "source": [
    "class VAE(nn.Module):\n",
    "\n",
    "    def __init__(self):\n",
    "        super().__init__()\n",
    "\n",
    "        self.conv1 = nn.Conv2d(1, 32, 3, 1, 1)\n",
    "        self.conv2 = nn.Conv2d(32, 64, 3, 2, 1)\n",
    "        self.conv3 = nn.Conv2d(64, 128, 3, 2, 1)\n",
    "        self.conv4 = nn.Conv2d(128, 256, 3, 2, 1)\n",
    "\n",
    "        self.bn1 = nn.BatchNorm2d(32)\n",
    "        self.bn2 = nn.BatchNorm2d(64)\n",
    "        self.bn3 = nn.BatchNorm2d(128)\n",
    "        self.bn4 = nn.BatchNorm2d(256)\n",
    "\n",
    "        self.fc1 = nn.Linear(256*4*4, 1024)\n",
    "        self.fc_mu = nn.Linear(1024, 20)\n",
    "        self.fc_sigma = nn.Linear(1024, 20)\n",
    "\n",
    "        self.fc2 = nn.Linear(20, 1024)\n",
    "        self.fc3 = nn.Linear(1024, 256*4*4)\n",
    "\n",
    "        self.transpose1 = nn.ConvTranspose2d(256, 128, 3, 2, 1)\n",
    "        self.transpose2 = nn.ConvTranspose2d(128, 64, 4, 2, 1)\n",
    "        self.transpose3 = nn.ConvTranspose2d(64, 32, 4, 2, 1)\n",
    "        self.transpose4 = nn.ConvTranspose2d(32, 1, 3, 1, 1)\n",
    "\n",
    "        self.bn5 = nn.BatchNorm2d(128)\n",
    "        self.bn6 = nn.BatchNorm2d(64)\n",
    "        self.bn7 = nn.BatchNorm2d(32)\n",
    "\n",
    "    \n",
    "    def encoder(self, input):\n",
    "        x = torch.relu(self.bn1(self.conv1(input)))\n",
    "        x = torch.relu(self.bn2(self.conv2(x)))\n",
    "        x = torch.relu(self.bn3(self.conv3(x)))\n",
    "        x = torch.relu(self.bn4(self.conv4(x)))\n",
    "        \n",
    "\n",
    "        x = x.view(-1, 256*4*4)\n",
    "\n",
    "        x = self.fc1(x)\n",
    "        mu = self.fc_mu(x)\n",
    "        sigma = self.fc_sigma(x)\n",
    "\n",
    "        return mu, sigma\n",
    "    \n",
    "\n",
    "    def reparameterize(self, mu, sigma):\n",
    "        eps = torch.randn_like(sigma)\n",
    "\n",
    "        return mu + eps * (torch.exp(0.5 * sigma))\n",
    "    \n",
    "    def decoder(self, z):\n",
    "\n",
    "        z = torch.relu(self.fc2(z))\n",
    "        z = torch.relu(self.fc3(z))\n",
    "\n",
    "        z = z.view(-1, 256, 4, 4)\n",
    "\n",
    "        z = torch.relu(self.bn5(self.transpose1(z)))\n",
    "        z = torch.relu(self.bn6(self.transpose2(z)))\n",
    "        z = torch.relu(self.bn7(self.transpose3(z)))\n",
    "\n",
    "        z = torch.sigmoid(self.transpose4(z))\n",
    "\n",
    "        return z\n",
    "    \n",
    "    def forward(self, x):\n",
    "        mu, sigma = self.encoder(x)\n",
    "        z = self.reparameterize(mu, sigma)\n",
    "        decoded = self.decoder(z)\n",
    "\n",
    "        return mu, sigma, decoded\n"
   ]
  },
  {
   "cell_type": "code",
   "execution_count": 36,
   "metadata": {},
   "outputs": [
    {
     "data": {
      "text/plain": [
       "device(type='cuda')"
      ]
     },
     "execution_count": 36,
     "metadata": {},
     "output_type": "execute_result"
    }
   ],
   "source": [
    "device = torch.device('cuda' if torch.cuda.is_available() else 'cpu')\n",
    "device"
   ]
  },
  {
   "cell_type": "code",
   "execution_count": 37,
   "metadata": {},
   "outputs": [
    {
     "data": {
      "text/plain": [
       "VAE(\n",
       "  (conv1): Conv2d(1, 32, kernel_size=(3, 3), stride=(1, 1), padding=(1, 1))\n",
       "  (conv2): Conv2d(32, 64, kernel_size=(3, 3), stride=(2, 2), padding=(1, 1))\n",
       "  (conv3): Conv2d(64, 128, kernel_size=(3, 3), stride=(2, 2), padding=(1, 1))\n",
       "  (conv4): Conv2d(128, 256, kernel_size=(3, 3), stride=(2, 2), padding=(1, 1))\n",
       "  (bn1): BatchNorm2d(32, eps=1e-05, momentum=0.1, affine=True, track_running_stats=True)\n",
       "  (bn2): BatchNorm2d(64, eps=1e-05, momentum=0.1, affine=True, track_running_stats=True)\n",
       "  (bn3): BatchNorm2d(128, eps=1e-05, momentum=0.1, affine=True, track_running_stats=True)\n",
       "  (bn4): BatchNorm2d(256, eps=1e-05, momentum=0.1, affine=True, track_running_stats=True)\n",
       "  (fc1): Linear(in_features=4096, out_features=1024, bias=True)\n",
       "  (fc_mu): Linear(in_features=1024, out_features=20, bias=True)\n",
       "  (fc_sigma): Linear(in_features=1024, out_features=20, bias=True)\n",
       "  (fc2): Linear(in_features=20, out_features=1024, bias=True)\n",
       "  (fc3): Linear(in_features=1024, out_features=4096, bias=True)\n",
       "  (transpose1): ConvTranspose2d(256, 128, kernel_size=(3, 3), stride=(2, 2), padding=(1, 1))\n",
       "  (transpose2): ConvTranspose2d(128, 64, kernel_size=(4, 4), stride=(2, 2), padding=(1, 1))\n",
       "  (transpose3): ConvTranspose2d(64, 32, kernel_size=(4, 4), stride=(2, 2), padding=(1, 1))\n",
       "  (transpose4): ConvTranspose2d(32, 1, kernel_size=(3, 3), stride=(1, 1), padding=(1, 1))\n",
       "  (bn5): BatchNorm2d(128, eps=1e-05, momentum=0.1, affine=True, track_running_stats=True)\n",
       "  (bn6): BatchNorm2d(64, eps=1e-05, momentum=0.1, affine=True, track_running_stats=True)\n",
       "  (bn7): BatchNorm2d(32, eps=1e-05, momentum=0.1, affine=True, track_running_stats=True)\n",
       ")"
      ]
     },
     "execution_count": 37,
     "metadata": {},
     "output_type": "execute_result"
    }
   ],
   "source": [
    "model = VAE().to(device)\n",
    "model"
   ]
  },
  {
   "attachments": {},
   "cell_type": "markdown",
   "metadata": {},
   "source": [
    "## Train"
   ]
  },
  {
   "cell_type": "code",
   "execution_count": 38,
   "metadata": {},
   "outputs": [],
   "source": [
    "def vae_loss(recon_x, x, mu, sigma):\n",
    "    criterion = nn.BCELoss(reduction='sum')\n",
    "    recon_loss = criterion(recon_x, x)\n",
    "\n",
    "    kl_loss = -0.5 * torch.sum(1 + sigma - mu.pow(2) - sigma.exp())\n",
    "\n",
    "    loss = recon_loss + kl_loss\n",
    "\n",
    "    return loss"
   ]
  },
  {
   "cell_type": "code",
   "execution_count": 39,
   "metadata": {},
   "outputs": [],
   "source": [
    "optimizer = optim.Adam(model.parameters(), lr=0.001)\n",
    "EPOCHS = 40"
   ]
  },
  {
   "cell_type": "code",
   "execution_count": 40,
   "metadata": {},
   "outputs": [
    {
     "name": "stdout",
     "output_type": "stream",
     "text": [
      "epoch0 loss: 7281934.5\n",
      "epoch1 loss: 6360243.5\n",
      "epoch2 loss: 6179770.0\n",
      "epoch3 loss: 6070091.5\n",
      "epoch4 loss: 5993757.0\n",
      "epoch5 loss: 5935467.0\n",
      "epoch6 loss: 5890907.5\n",
      "epoch7 loss: 5855821.0\n",
      "epoch8 loss: 5823432.5\n",
      "epoch9 loss: 5800655.5\n",
      "epoch10 loss: 5776009.0\n",
      "epoch11 loss: 5757637.5\n",
      "epoch12 loss: 5740587.5\n",
      "epoch13 loss: 5723518.0\n",
      "epoch14 loss: 5709404.0\n",
      "epoch15 loss: 5695927.0\n",
      "epoch16 loss: 5681567.5\n",
      "epoch17 loss: 5672450.5\n",
      "epoch18 loss: 5659185.0\n",
      "epoch19 loss: 5651089.5\n",
      "epoch20 loss: 5642653.0\n",
      "epoch21 loss: 5631959.0\n",
      "epoch22 loss: 5623672.5\n",
      "epoch23 loss: 5615472.5\n",
      "epoch24 loss: 5605484.0\n",
      "epoch25 loss: 5602502.5\n",
      "epoch26 loss: 5595939.5\n",
      "epoch27 loss: 5587775.5\n",
      "epoch28 loss: 5579268.5\n",
      "epoch29 loss: 5575853.5\n",
      "epoch30 loss: 5567870.5\n",
      "epoch31 loss: 5566894.5\n",
      "epoch32 loss: 5558709.5\n",
      "epoch33 loss: 5550905.5\n",
      "epoch34 loss: 5548839.0\n",
      "epoch35 loss: 5544269.0\n",
      "epoch36 loss: 5537854.0\n",
      "epoch37 loss: 5533803.5\n",
      "epoch38 loss: 5530531.5\n",
      "epoch39 loss: 5521702.5\n"
     ]
    }
   ],
   "source": [
    "for epoch in range(EPOCHS):\n",
    "\n",
    "    epoch_loss = 0\n",
    "\n",
    "    for x, _ in train_loader:\n",
    "        x = x.to(device)\n",
    "        mu, sigma, x_reconst = model(x)\n",
    "\n",
    "        optimizer.zero_grad()\n",
    "\n",
    "        with torch.set_grad_enabled(True):\n",
    "            loss = vae_loss(x_reconst, x, mu, sigma)\n",
    "            loss.backward()\n",
    "            optimizer.step()\n",
    "\n",
    "        epoch_loss += loss\n",
    "\n",
    "    print(f'epoch{epoch} loss: {epoch_loss}')"
   ]
  },
  {
   "attachments": {},
   "cell_type": "markdown",
   "metadata": {},
   "source": [
    "## Test"
   ]
  },
  {
   "cell_type": "code",
   "execution_count": 46,
   "metadata": {},
   "outputs": [
    {
     "data": {
      "image/png": "[encoded data removed]",
      "text/plain": [
       "<Figure size 640x480 with 1 Axes>"
      ]
     },
     "metadata": {},
     "output_type": "display_data"
    }
   ],
   "source": [
    "mu = torch.zeros(20)\n",
    "sigma = torch.ones(20)\n",
    "n_samples = 1\n",
    "latent_vars = torch.normal(mu, sigma.expand(n_samples, -1)).to(device)\n",
    "\n",
    "with torch.no_grad():\n",
    "    decoded_data = model.decoder(latent_vars)\n",
    "\n",
    "decoded_data_np = decoded_data.cpu().numpy().reshape(28, 28)\n",
    "plt.imshow(decoded_data_np, cmap='gray')\n",
    "plt.show()\n"
   ]
  },
  {
   "cell_type": "code",
   "execution_count": 44,
   "metadata": {},
   "outputs": [],
   "source": [
    "FILE = \"model.pth\"\n",
    "torch.save(model, FILE)"
   ]
  }
 ],
 "metadata": {
  "kernelspec": {
   "display_name": "torchenv",
   "language": "python",
   "name": "torchenv"
  },
  "language_info": {
   "codemirror_mode": {
    "name": "ipython",
    "version": 3
   },
   "file_extension": ".py",
   "mimetype": "text/x-python",
   "name": "python",
   "nbconvert_exporter": "python",
   "pygments_lexer": "ipython3",
   "version": "3.10.8"
  },
  "orig_nbformat": 4
 },
 "nbformat": 4,
 "nbformat_minor": 2
}
