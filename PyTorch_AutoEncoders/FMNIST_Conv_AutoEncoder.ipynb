{
 "cells": [
  {
   "attachments": {},
   "cell_type": "markdown",
   "metadata": {},
   "source": [
    "## Imports"
   ]
  },
  {
   "cell_type": "code",
   "execution_count": 49,
   "metadata": {},
   "outputs": [],
   "source": [
    "import torch\n",
    "from torch import nn, optim\n",
    "from torchvision import models, datasets, transforms\n",
    "from torch.utils.data import DataLoader\n",
    "import numpy as np\n",
    "from matplotlib import pyplot as plt"
   ]
  },
  {
   "attachments": {},
   "cell_type": "markdown",
   "metadata": {},
   "source": [
    "## Data"
   ]
  },
  {
   "cell_type": "code",
   "execution_count": 50,
   "metadata": {},
   "outputs": [],
   "source": [
    "transform = transforms.ToTensor()"
   ]
  },
  {
   "cell_type": "code",
   "execution_count": 51,
   "metadata": {},
   "outputs": [],
   "source": [
    "train_data = datasets.FashionMNIST(root='data', train=True, download=True, transform=transform)\n",
    "test_data = datasets.FashionMNIST(root='data', train=False, download=True, transform=transform)"
   ]
  },
  {
   "cell_type": "code",
   "execution_count": 52,
   "metadata": {},
   "outputs": [],
   "source": [
    "train_loader = DataLoader(dataset=train_data, batch_size=20, shuffle=True)\n",
    "test_loader = DataLoader(dataset=test_data, batch_size=20, shuffle=True)"
   ]
  },
  {
   "attachments": {},
   "cell_type": "markdown",
   "metadata": {},
   "source": [
    "## Model"
   ]
  },
  {
   "cell_type": "code",
   "execution_count": 53,
   "metadata": {},
   "outputs": [
    {
     "data": {
      "text/plain": [
       "device(type='cuda')"
      ]
     },
     "execution_count": 53,
     "metadata": {},
     "output_type": "execute_result"
    }
   ],
   "source": [
    "device = torch.device('cuda' if torch.cuda.is_available() else 'cpu')\n",
    "device"
   ]
  },
  {
   "cell_type": "code",
   "execution_count": 54,
   "metadata": {},
   "outputs": [],
   "source": [
    "class FMNISTConvAutoEncoder(nn.Module):\n",
    "\n",
    "    def __init__(self):\n",
    "\n",
    "        super().__init__()\n",
    "\n",
    "        self.conv_1 = nn.Conv2d(in_channels=1, out_channels=64, kernel_size=(3, 3), stride=1, padding=1)\n",
    "        self.max_1 = nn.MaxPool2d(kernel_size=(2, 2), stride=2)\n",
    "\n",
    "        self.conv_2 = nn.Conv2d(in_channels=64, out_channels=128, kernel_size=(3, 3), stride=1, padding=1)\n",
    "        self.max_2 = nn.MaxPool2d(kernel_size=(2, 2), stride=2)\n",
    "\n",
    "        self.bottle_neck = nn.Conv2d(in_channels=128, out_channels=256, kernel_size=(3, 3), stride=1, padding=1)\n",
    "\n",
    "        self.conv_3 = nn.Conv2d(in_channels=256, out_channels=128, kernel_size=(3, 3), stride=1, padding=1)\n",
    "        self.up_sample_1 = nn.Upsample(scale_factor=2, mode='nearest')\n",
    "\n",
    "        self.conv_4 = nn.Conv2d(in_channels=128, out_channels=64, kernel_size=(3, 3), stride=1, padding=1)\n",
    "        self.up_sample_2 = nn.Upsample(scale_factor=2, mode='nearest')\n",
    "\n",
    "        self.out = nn.Conv2d(in_channels=64, out_channels=1, kernel_size=(3, 3), stride=1, padding=1)\n",
    "\n",
    "\n",
    "    def forward(self, x):\n",
    "        x = torch.relu(self.conv_1(x))\n",
    "        x = self.max_1(x)\n",
    "\n",
    "        x = torch.relu(self.conv_2(x))\n",
    "        x = self.max_2(x)\n",
    "\n",
    "        x = self.bottle_neck(x)\n",
    "\n",
    "        x = torch.relu(self.conv_3(x))\n",
    "        x = self.up_sample_1(x)\n",
    "\n",
    "        x = torch.relu(self.conv_4(x))\n",
    "        x = self.up_sample_2(x)\n",
    "\n",
    "        x = torch.sigmoid(self.out(x))\n",
    "\n",
    "        return x"
   ]
  },
  {
   "cell_type": "code",
   "execution_count": 55,
   "metadata": {},
   "outputs": [
    {
     "data": {
      "text/plain": [
       "FMNISTConvAutoEncoder(\n",
       "  (conv_1): Conv2d(1, 64, kernel_size=(3, 3), stride=(1, 1), padding=(1, 1))\n",
       "  (max_1): MaxPool2d(kernel_size=(2, 2), stride=2, padding=0, dilation=1, ceil_mode=False)\n",
       "  (conv_2): Conv2d(64, 128, kernel_size=(3, 3), stride=(1, 1), padding=(1, 1))\n",
       "  (max_2): MaxPool2d(kernel_size=(2, 2), stride=2, padding=0, dilation=1, ceil_mode=False)\n",
       "  (bottle_neck): Conv2d(128, 256, kernel_size=(3, 3), stride=(1, 1), padding=(1, 1))\n",
       "  (conv_3): Conv2d(256, 128, kernel_size=(3, 3), stride=(1, 1), padding=(1, 1))\n",
       "  (up_sample_1): Upsample(scale_factor=2.0, mode=nearest)\n",
       "  (conv_4): Conv2d(128, 64, kernel_size=(3, 3), stride=(1, 1), padding=(1, 1))\n",
       "  (up_sample_2): Upsample(scale_factor=2.0, mode=nearest)\n",
       "  (out): Conv2d(64, 1, kernel_size=(3, 3), stride=(1, 1), padding=(1, 1))\n",
       ")"
      ]
     },
     "execution_count": 55,
     "metadata": {},
     "output_type": "execute_result"
    }
   ],
   "source": [
    "model = FMNISTConvAutoEncoder().to(device)\n",
    "model"
   ]
  },
  {
   "attachments": {},
   "cell_type": "markdown",
   "metadata": {},
   "source": [
    "## Train"
   ]
  },
  {
   "cell_type": "code",
   "execution_count": 56,
   "metadata": {},
   "outputs": [],
   "source": [
    "optimizer = optim.Adam(model.parameters(), lr=0.001)\n",
    "criterion = nn.MSELoss()\n",
    "EPOCHS = 30"
   ]
  },
  {
   "cell_type": "code",
   "execution_count": 57,
   "metadata": {},
   "outputs": [
    {
     "name": "stdout",
     "output_type": "stream",
     "text": [
      "Epoch0: loss=17.25185203552246\n",
      "Epoch1: loss=7.005546569824219\n",
      "Epoch2: loss=5.413476467132568\n",
      "Epoch3: loss=4.623769760131836\n",
      "Epoch4: loss=4.18428897857666\n",
      "Epoch5: loss=3.8661036491394043\n",
      "Epoch6: loss=3.642118215560913\n",
      "Epoch7: loss=3.4574809074401855\n",
      "Epoch8: loss=3.3030176162719727\n",
      "Epoch9: loss=3.195756673812866\n",
      "Epoch10: loss=3.100921869277954\n",
      "Epoch11: loss=3.0451574325561523\n",
      "Epoch12: loss=2.967836618423462\n",
      "Epoch13: loss=2.9232842922210693\n",
      "Epoch14: loss=2.862997531890869\n",
      "Epoch15: loss=2.8352530002593994\n",
      "Epoch16: loss=2.7885191440582275\n",
      "Epoch17: loss=2.7641942501068115\n",
      "Epoch18: loss=2.7236058712005615\n",
      "Epoch19: loss=2.6930506229400635\n",
      "Epoch20: loss=2.683253049850464\n",
      "Epoch21: loss=2.6347451210021973\n",
      "Epoch22: loss=2.6261703968048096\n",
      "Epoch23: loss=2.598139524459839\n",
      "Epoch24: loss=2.5799973011016846\n",
      "Epoch25: loss=2.5576305389404297\n",
      "Epoch26: loss=2.5349225997924805\n",
      "Epoch27: loss=2.5253946781158447\n",
      "Epoch28: loss=2.502387523651123\n",
      "Epoch29: loss=2.493622064590454\n"
     ]
    }
   ],
   "source": [
    "for epoch in range(EPOCHS):\n",
    "\n",
    "    train_loss = 0\n",
    "\n",
    "    for images, labels in train_loader:\n",
    "\n",
    "        images = images.to(device)\n",
    "\n",
    "        preds = model(images)\n",
    "\n",
    "        optimizer.zero_grad()\n",
    "\n",
    "        with torch.set_grad_enabled(True):\n",
    "            loss = criterion(preds, images)\n",
    "            loss.backward()\n",
    "            optimizer.step()\n",
    "\n",
    "        train_loss += loss\n",
    "\n",
    "    print(f'Epoch{epoch}: loss={train_loss}')\n"
   ]
  },
  {
   "attachments": {},
   "cell_type": "markdown",
   "metadata": {},
   "source": [
    "## Results"
   ]
  },
  {
   "cell_type": "code",
   "execution_count": 62,
   "metadata": {},
   "outputs": [
    {
     "data": {
      "image/png": "[encoded data removed]",
      "text/plain": [
       "<Figure size 2500x400 with 20 Axes>"
      ]
     },
     "metadata": {},
     "output_type": "display_data"
    }
   ],
   "source": [
    "dataiter = iter(test_loader)\n",
    "images, labels = next(dataiter)\n",
    "images = images.to(device)\n",
    "\n",
    "output = model(images)\n",
    "\n",
    "images = images.permute(0, 3, 1, 2)\n",
    "images = images.detach().cpu().numpy()\n",
    "\n",
    "output = output.permute(0, 3, 1, 2)\n",
    "output = output.detach().cpu().numpy()\n",
    "\n",
    "fig, axes = plt.subplots(nrows=2, ncols=10, sharex=True, sharey=True, figsize=(25,4))\n",
    "\n",
    "for images, row in zip([images, output], axes):\n",
    "    for img, ax in zip(images, row):\n",
    "        ax.imshow(np.squeeze(img), cmap='gray')\n",
    "        ax.get_xaxis().set_visible(False)\n",
    "        ax.get_yaxis().set_visible(False)"
   ]
  },
  {
   "cell_type": "code",
   "execution_count": null,
   "metadata": {},
   "outputs": [],
   "source": []
  }
 ],
 "metadata": {
  "kernelspec": {
   "display_name": "torchenv",
   "language": "python",
   "name": "torchenv"
  },
  "language_info": {
   "codemirror_mode": {
    "name": "ipython",
    "version": 3
   },
   "file_extension": ".py",
   "mimetype": "text/x-python",
   "name": "python",
   "nbconvert_exporter": "python",
   "pygments_lexer": "ipython3",
   "version": "3.10.8"
  },
  "orig_nbformat": 4
 },
 "nbformat": 4,
 "nbformat_minor": 2
}
